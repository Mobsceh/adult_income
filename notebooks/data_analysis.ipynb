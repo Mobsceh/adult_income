{
 "cells": [
  {
   "cell_type": "markdown",
   "id": "6072d491-3109-46de-b5c9-8214705bdaa7",
   "metadata": {},
   "source": [
    "# UCI Adult Income Dataset - Exploratory and Descriptive Analysis\n",
    "\n",
    "In this notebook, we carry out an in-depth exploratory and descriptive analysis of the UCI Adult Income Dataset, a widely used dataset for income prediction tasks based on individual demographic and employment attributes.\n",
    "\n",
    "This phase of analysis is essential for uncovering patterns, detecting potential biases, and gaining intuition about the dataset’s structure before applying any modelling procedures. We examine the distribution of key numerical and categorical variables, investigate relationships between demographic features and income levels, and use visualizations to summarize insights. Particular focus is placed on income disparities across **age groups**, **geographical regions**, **races**, and **education-occupation combinations**, helping lay a solid foundation for downstream modeling and policy-relevant interpretation."
   ]
  },
  {
   "cell_type": "markdown",
   "id": "7bb7cbf5-7951-447e-88fb-0933f72ebb67",
   "metadata": {},
   "source": [
    "We begin our analysis by importing the core Python libraries required for **data handling**, **numerical computation**, **visualization**, and **directory management**:\n",
    "\n",
    "- `pandas`: Enables efficient manipulation, filtering, and aggregation of structured tabular data, forming the backbone of our analysis pipeline.\n",
    "\n",
    "- `numpy`: Provides support for fast numerical operations, array-based computation, and statistical routines.\n",
    "\n",
    "- `os`: Facilitates interaction with the file system, allowing us to construct flexible and portable directory paths for data and output management.\n",
    "\n",
    "- `plotly.express`: A high-level graphing library that enables the creation of interactive, publication-quality visualizations, which we use extensively to uncover patterns and present insights throughout the notebook."
   ]
  },
  {
   "cell_type": "code",
   "execution_count": 1,
   "id": "7fdd4a27-7ae7-4063-8e45-e24192951828",
   "metadata": {},
   "outputs": [],
   "source": [
    "# Import libraries\n",
    "import os\n",
    "import pandas as pd\n",
    "import numpy as np\n",
    "import plotly.express as px"
   ]
  },
  {
   "cell_type": "markdown",
   "id": "da28cf01-c282-468a-a175-12b3c7a4ca01",
   "metadata": {},
   "source": [
    "## Define and Create Directory Paths\n",
    "\n",
    "To ensure reproducibility andorganized storage, we programmatically create directories if they don't already exist for:\n",
    "\n",
    "- **raw data**\n",
    "- **processed data**\n",
    "- **results**\n",
    "- **documentation**\n",
    "\n",
    "These directories will store intermediate and final outputs for reproducibility."
   ]
  },
  {
   "cell_type": "code",
   "execution_count": 2,
   "id": "d1db07c7-980b-4185-be75-c188202eb3b7",
   "metadata": {},
   "outputs": [],
   "source": [
    "# Get working directory\n",
    "current_dir = os.getcwd()\n",
    "# Go one directory up to the root directory\n",
    "project_root_dir = os.path.dirname(current_dir)\n",
    "# Define paths to the data folders\n",
    "data_dir = os.path.join(project_root_dir, 'data')\n",
    "raw_dir = os.path.join(data_dir, 'raw')\n",
    "processed_dir = os.path.join(data_dir, 'processed')\n",
    "# Define paths to results folder\n",
    "results_dir = os.path.join(project_root_dir, 'results')\n",
    "# Define paths to docs folder\n",
    "docs_dir = os.path.join(project_root_dir, 'docs')\n",
    "\n",
    "# Create directories if they do not exist\n",
    "os.makedirs(raw_dir, exist_ok = True)\n",
    "os.makedirs(processed_dir, exist_ok = True)\n",
    "os.makedirs(results_dir, exist_ok = True)\n",
    "os.makedirs(docs_dir, exist_ok = True)"
   ]
  },
  {
   "cell_type": "markdown",
   "id": "ed66b0fd-148e-4172-bb70-5514b8ea2e4b",
   "metadata": {},
   "source": [
    "## Loading the Cleaned Dataset\n",
    "\n",
    "We load the cleaned version of the UCI Adult Income Dataset from the processed data directory into a Pandas DataFrame. The `head(10)` function shows the first ten records, giving a glimpse into the data columns such as `age`, `workclass`, `education_num`, etc."
   ]
  },
  {
   "cell_type": "code",
   "execution_count": 3,
   "id": "76c9d79d-1ccc-4a20-b435-046ebeeba4d4",
   "metadata": {},
   "outputs": [
    {
     "data": {
      "text/html": [
       "<div>\n",
       "<style scoped>\n",
       "    .dataframe tbody tr th:only-of-type {\n",
       "        vertical-align: middle;\n",
       "    }\n",
       "\n",
       "    .dataframe tbody tr th {\n",
       "        vertical-align: top;\n",
       "    }\n",
       "\n",
       "    .dataframe thead th {\n",
       "        text-align: right;\n",
       "    }\n",
       "</style>\n",
       "<table border=\"1\" class=\"dataframe\">\n",
       "  <thead>\n",
       "    <tr style=\"text-align: right;\">\n",
       "      <th></th>\n",
       "      <th>age</th>\n",
       "      <th>workclass</th>\n",
       "      <th>fnlwgt</th>\n",
       "      <th>education_num</th>\n",
       "      <th>marital_status</th>\n",
       "      <th>relationship</th>\n",
       "      <th>race</th>\n",
       "      <th>sex</th>\n",
       "      <th>capital_gain</th>\n",
       "      <th>capital_loss</th>\n",
       "      <th>hours_per_week</th>\n",
       "      <th>income</th>\n",
       "      <th>education_level</th>\n",
       "      <th>occupation_grouped</th>\n",
       "      <th>native_region</th>\n",
       "      <th>age_group</th>\n",
       "    </tr>\n",
       "  </thead>\n",
       "  <tbody>\n",
       "    <tr>\n",
       "      <th>0</th>\n",
       "      <td>39</td>\n",
       "      <td>government</td>\n",
       "      <td>77516</td>\n",
       "      <td>13</td>\n",
       "      <td>single</td>\n",
       "      <td>single</td>\n",
       "      <td>white</td>\n",
       "      <td>male</td>\n",
       "      <td>2174</td>\n",
       "      <td>0</td>\n",
       "      <td>40</td>\n",
       "      <td>&lt;=50k</td>\n",
       "      <td>tertiary</td>\n",
       "      <td>white collar</td>\n",
       "      <td>north america</td>\n",
       "      <td>36-45</td>\n",
       "    </tr>\n",
       "    <tr>\n",
       "      <th>1</th>\n",
       "      <td>50</td>\n",
       "      <td>self-employed</td>\n",
       "      <td>83311</td>\n",
       "      <td>13</td>\n",
       "      <td>married</td>\n",
       "      <td>male spouse</td>\n",
       "      <td>white</td>\n",
       "      <td>male</td>\n",
       "      <td>0</td>\n",
       "      <td>0</td>\n",
       "      <td>13</td>\n",
       "      <td>&lt;=50k</td>\n",
       "      <td>tertiary</td>\n",
       "      <td>white collar</td>\n",
       "      <td>north america</td>\n",
       "      <td>46-60</td>\n",
       "    </tr>\n",
       "    <tr>\n",
       "      <th>2</th>\n",
       "      <td>38</td>\n",
       "      <td>private</td>\n",
       "      <td>215646</td>\n",
       "      <td>9</td>\n",
       "      <td>divorced or separated</td>\n",
       "      <td>single</td>\n",
       "      <td>white</td>\n",
       "      <td>male</td>\n",
       "      <td>0</td>\n",
       "      <td>0</td>\n",
       "      <td>40</td>\n",
       "      <td>&lt;=50k</td>\n",
       "      <td>secondary-school graduate</td>\n",
       "      <td>blue collar</td>\n",
       "      <td>north america</td>\n",
       "      <td>36-45</td>\n",
       "    </tr>\n",
       "    <tr>\n",
       "      <th>3</th>\n",
       "      <td>53</td>\n",
       "      <td>private</td>\n",
       "      <td>234721</td>\n",
       "      <td>7</td>\n",
       "      <td>married</td>\n",
       "      <td>male spouse</td>\n",
       "      <td>black</td>\n",
       "      <td>male</td>\n",
       "      <td>0</td>\n",
       "      <td>0</td>\n",
       "      <td>40</td>\n",
       "      <td>&lt;=50k</td>\n",
       "      <td>secondary</td>\n",
       "      <td>blue collar</td>\n",
       "      <td>north america</td>\n",
       "      <td>46-60</td>\n",
       "    </tr>\n",
       "    <tr>\n",
       "      <th>4</th>\n",
       "      <td>28</td>\n",
       "      <td>private</td>\n",
       "      <td>338409</td>\n",
       "      <td>13</td>\n",
       "      <td>married</td>\n",
       "      <td>female spouse</td>\n",
       "      <td>black</td>\n",
       "      <td>female</td>\n",
       "      <td>0</td>\n",
       "      <td>0</td>\n",
       "      <td>40</td>\n",
       "      <td>&lt;=50k</td>\n",
       "      <td>tertiary</td>\n",
       "      <td>white collar</td>\n",
       "      <td>central america</td>\n",
       "      <td>26-35</td>\n",
       "    </tr>\n",
       "    <tr>\n",
       "      <th>5</th>\n",
       "      <td>37</td>\n",
       "      <td>private</td>\n",
       "      <td>284582</td>\n",
       "      <td>14</td>\n",
       "      <td>married</td>\n",
       "      <td>female spouse</td>\n",
       "      <td>white</td>\n",
       "      <td>female</td>\n",
       "      <td>0</td>\n",
       "      <td>0</td>\n",
       "      <td>40</td>\n",
       "      <td>&lt;=50k</td>\n",
       "      <td>tertiary</td>\n",
       "      <td>white collar</td>\n",
       "      <td>north america</td>\n",
       "      <td>36-45</td>\n",
       "    </tr>\n",
       "    <tr>\n",
       "      <th>6</th>\n",
       "      <td>49</td>\n",
       "      <td>private</td>\n",
       "      <td>160187</td>\n",
       "      <td>5</td>\n",
       "      <td>divorced or separated</td>\n",
       "      <td>single</td>\n",
       "      <td>black</td>\n",
       "      <td>female</td>\n",
       "      <td>0</td>\n",
       "      <td>0</td>\n",
       "      <td>16</td>\n",
       "      <td>&lt;=50k</td>\n",
       "      <td>secondary</td>\n",
       "      <td>service</td>\n",
       "      <td>central america</td>\n",
       "      <td>46-60</td>\n",
       "    </tr>\n",
       "    <tr>\n",
       "      <th>7</th>\n",
       "      <td>52</td>\n",
       "      <td>self-employed</td>\n",
       "      <td>209642</td>\n",
       "      <td>9</td>\n",
       "      <td>married</td>\n",
       "      <td>male spouse</td>\n",
       "      <td>white</td>\n",
       "      <td>male</td>\n",
       "      <td>0</td>\n",
       "      <td>0</td>\n",
       "      <td>45</td>\n",
       "      <td>&gt;50k</td>\n",
       "      <td>secondary-school graduate</td>\n",
       "      <td>white collar</td>\n",
       "      <td>north america</td>\n",
       "      <td>46-60</td>\n",
       "    </tr>\n",
       "    <tr>\n",
       "      <th>8</th>\n",
       "      <td>31</td>\n",
       "      <td>private</td>\n",
       "      <td>45781</td>\n",
       "      <td>14</td>\n",
       "      <td>single</td>\n",
       "      <td>single</td>\n",
       "      <td>white</td>\n",
       "      <td>female</td>\n",
       "      <td>14084</td>\n",
       "      <td>0</td>\n",
       "      <td>50</td>\n",
       "      <td>&gt;50k</td>\n",
       "      <td>tertiary</td>\n",
       "      <td>white collar</td>\n",
       "      <td>north america</td>\n",
       "      <td>26-35</td>\n",
       "    </tr>\n",
       "    <tr>\n",
       "      <th>9</th>\n",
       "      <td>42</td>\n",
       "      <td>private</td>\n",
       "      <td>159449</td>\n",
       "      <td>13</td>\n",
       "      <td>married</td>\n",
       "      <td>male spouse</td>\n",
       "      <td>white</td>\n",
       "      <td>male</td>\n",
       "      <td>5178</td>\n",
       "      <td>0</td>\n",
       "      <td>40</td>\n",
       "      <td>&gt;50k</td>\n",
       "      <td>tertiary</td>\n",
       "      <td>white collar</td>\n",
       "      <td>north america</td>\n",
       "      <td>36-45</td>\n",
       "    </tr>\n",
       "  </tbody>\n",
       "</table>\n",
       "</div>"
      ],
      "text/plain": [
       "   age      workclass  fnlwgt  education_num         marital_status  \\\n",
       "0   39     government   77516             13                 single   \n",
       "1   50  self-employed   83311             13                married   \n",
       "2   38        private  215646              9  divorced or separated   \n",
       "3   53        private  234721              7                married   \n",
       "4   28        private  338409             13                married   \n",
       "5   37        private  284582             14                married   \n",
       "6   49        private  160187              5  divorced or separated   \n",
       "7   52  self-employed  209642              9                married   \n",
       "8   31        private   45781             14                 single   \n",
       "9   42        private  159449             13                married   \n",
       "\n",
       "    relationship   race     sex  capital_gain  capital_loss  hours_per_week  \\\n",
       "0         single  white    male          2174             0              40   \n",
       "1    male spouse  white    male             0             0              13   \n",
       "2         single  white    male             0             0              40   \n",
       "3    male spouse  black    male             0             0              40   \n",
       "4  female spouse  black  female             0             0              40   \n",
       "5  female spouse  white  female             0             0              40   \n",
       "6         single  black  female             0             0              16   \n",
       "7    male spouse  white    male             0             0              45   \n",
       "8         single  white  female         14084             0              50   \n",
       "9    male spouse  white    male          5178             0              40   \n",
       "\n",
       "  income            education_level occupation_grouped    native_region  \\\n",
       "0  <=50k                   tertiary       white collar    north america   \n",
       "1  <=50k                   tertiary       white collar    north america   \n",
       "2  <=50k  secondary-school graduate        blue collar    north america   \n",
       "3  <=50k                  secondary        blue collar    north america   \n",
       "4  <=50k                   tertiary       white collar  central america   \n",
       "5  <=50k                   tertiary       white collar    north america   \n",
       "6  <=50k                  secondary            service  central america   \n",
       "7   >50k  secondary-school graduate       white collar    north america   \n",
       "8   >50k                   tertiary       white collar    north america   \n",
       "9   >50k                   tertiary       white collar    north america   \n",
       "\n",
       "  age_group  \n",
       "0     36-45  \n",
       "1     46-60  \n",
       "2     36-45  \n",
       "3     46-60  \n",
       "4     26-35  \n",
       "5     36-45  \n",
       "6     46-60  \n",
       "7     46-60  \n",
       "8     26-35  \n",
       "9     36-45  "
      ]
     },
     "execution_count": 3,
     "metadata": {},
     "output_type": "execute_result"
    }
   ],
   "source": [
    "adult_data_filename = os.path.join(processed_dir, \"adult_cleaned.csv\")\n",
    "adult_df = pd.read_csv(adult_data_filename)\n",
    "adult_df.head(10)"
   ]
  },
  {
   "cell_type": "markdown",
   "id": "dd25f4dc-fa6c-4605-ae9b-6e2f8dd4ac53",
   "metadata": {},
   "source": [
    "## Dataset Dimensions and Data Types\n",
    "\n",
    "Here, we examine the structure of the dataset:\n",
    "\n",
    "- There are *32,513* entries and *16* variables.\n",
    "- The dataset includes both **numerical** (e.g., `age`, `hours_per_week`) and **categorical** variables (e.g., `sex`, `education_level`).\n",
    "\n",
    "Understanding data types and null entries is essential before proceeding with analysis."
   ]
  },
  {
   "cell_type": "code",
   "execution_count": 4,
   "id": "94dd1b16-d542-400d-b5b7-21ecf256d0a1",
   "metadata": {},
   "outputs": [
    {
     "data": {
      "text/plain": [
       "(32513, 16)"
      ]
     },
     "execution_count": 4,
     "metadata": {},
     "output_type": "execute_result"
    }
   ],
   "source": [
    "adult_df.shape"
   ]
  },
  {
   "cell_type": "code",
   "execution_count": 5,
   "id": "a9607677-abc8-4d63-8438-80b2e11732ae",
   "metadata": {},
   "outputs": [
    {
     "name": "stdout",
     "output_type": "stream",
     "text": [
      "<class 'pandas.core.frame.DataFrame'>\n",
      "RangeIndex: 32513 entries, 0 to 32512\n",
      "Data columns (total 16 columns):\n",
      " #   Column              Non-Null Count  Dtype \n",
      "---  ------              --------------  ----- \n",
      " 0   age                 32513 non-null  int64 \n",
      " 1   workclass           32513 non-null  object\n",
      " 2   fnlwgt              32513 non-null  int64 \n",
      " 3   education_num       32513 non-null  int64 \n",
      " 4   marital_status      32513 non-null  object\n",
      " 5   relationship        32513 non-null  object\n",
      " 6   race                32513 non-null  object\n",
      " 7   sex                 32513 non-null  object\n",
      " 8   capital_gain        32513 non-null  int64 \n",
      " 9   capital_loss        32513 non-null  int64 \n",
      " 10  hours_per_week      32513 non-null  int64 \n",
      " 11  income              32513 non-null  object\n",
      " 12  education_level     32513 non-null  object\n",
      " 13  occupation_grouped  32513 non-null  object\n",
      " 14  native_region       32513 non-null  object\n",
      " 15  age_group           32513 non-null  object\n",
      "dtypes: int64(6), object(10)\n",
      "memory usage: 4.0+ MB\n"
     ]
    }
   ],
   "source": [
    "adult_df.info()"
   ]
  },
  {
   "cell_type": "markdown",
   "id": "790f8f3f-4df5-425c-9c0f-60fca9efc89b",
   "metadata": {},
   "source": [
    "## Summary Statistics: Numerical Variables"
   ]
  },
  {
   "cell_type": "code",
   "execution_count": 6,
   "id": "877b384b-a3e4-42df-b7ea-e064abe8637f",
   "metadata": {},
   "outputs": [
    {
     "data": {
      "text/html": [
       "<div>\n",
       "<style scoped>\n",
       "    .dataframe tbody tr th:only-of-type {\n",
       "        vertical-align: middle;\n",
       "    }\n",
       "\n",
       "    .dataframe tbody tr th {\n",
       "        vertical-align: top;\n",
       "    }\n",
       "\n",
       "    .dataframe thead th {\n",
       "        text-align: right;\n",
       "    }\n",
       "</style>\n",
       "<table border=\"1\" class=\"dataframe\">\n",
       "  <thead>\n",
       "    <tr style=\"text-align: right;\">\n",
       "      <th></th>\n",
       "      <th>age</th>\n",
       "      <th>fnlwgt</th>\n",
       "      <th>education_num</th>\n",
       "      <th>capital_gain</th>\n",
       "      <th>capital_loss</th>\n",
       "      <th>hours_per_week</th>\n",
       "    </tr>\n",
       "  </thead>\n",
       "  <tbody>\n",
       "    <tr>\n",
       "      <th>count</th>\n",
       "      <td>32513.000000</td>\n",
       "      <td>3.251300e+04</td>\n",
       "      <td>32513.000000</td>\n",
       "      <td>32513.000000</td>\n",
       "      <td>32513.000000</td>\n",
       "      <td>32513.000000</td>\n",
       "    </tr>\n",
       "    <tr>\n",
       "      <th>mean</th>\n",
       "      <td>38.590256</td>\n",
       "      <td>1.897942e+05</td>\n",
       "      <td>10.081629</td>\n",
       "      <td>1079.239812</td>\n",
       "      <td>87.432719</td>\n",
       "      <td>40.440962</td>\n",
       "    </tr>\n",
       "    <tr>\n",
       "      <th>std</th>\n",
       "      <td>13.638932</td>\n",
       "      <td>1.055788e+05</td>\n",
       "      <td>2.572015</td>\n",
       "      <td>7390.625650</td>\n",
       "      <td>403.243596</td>\n",
       "      <td>12.350184</td>\n",
       "    </tr>\n",
       "    <tr>\n",
       "      <th>min</th>\n",
       "      <td>17.000000</td>\n",
       "      <td>1.228500e+04</td>\n",
       "      <td>1.000000</td>\n",
       "      <td>0.000000</td>\n",
       "      <td>0.000000</td>\n",
       "      <td>1.000000</td>\n",
       "    </tr>\n",
       "    <tr>\n",
       "      <th>25%</th>\n",
       "      <td>28.000000</td>\n",
       "      <td>1.178330e+05</td>\n",
       "      <td>9.000000</td>\n",
       "      <td>0.000000</td>\n",
       "      <td>0.000000</td>\n",
       "      <td>40.000000</td>\n",
       "    </tr>\n",
       "    <tr>\n",
       "      <th>50%</th>\n",
       "      <td>37.000000</td>\n",
       "      <td>1.783560e+05</td>\n",
       "      <td>10.000000</td>\n",
       "      <td>0.000000</td>\n",
       "      <td>0.000000</td>\n",
       "      <td>40.000000</td>\n",
       "    </tr>\n",
       "    <tr>\n",
       "      <th>75%</th>\n",
       "      <td>48.000000</td>\n",
       "      <td>2.370510e+05</td>\n",
       "      <td>12.000000</td>\n",
       "      <td>0.000000</td>\n",
       "      <td>0.000000</td>\n",
       "      <td>45.000000</td>\n",
       "    </tr>\n",
       "    <tr>\n",
       "      <th>max</th>\n",
       "      <td>90.000000</td>\n",
       "      <td>1.484705e+06</td>\n",
       "      <td>16.000000</td>\n",
       "      <td>99999.000000</td>\n",
       "      <td>4356.000000</td>\n",
       "      <td>99.000000</td>\n",
       "    </tr>\n",
       "  </tbody>\n",
       "</table>\n",
       "</div>"
      ],
      "text/plain": [
       "                age        fnlwgt  education_num  capital_gain  capital_loss  \\\n",
       "count  32513.000000  3.251300e+04   32513.000000  32513.000000  32513.000000   \n",
       "mean      38.590256  1.897942e+05      10.081629   1079.239812     87.432719   \n",
       "std       13.638932  1.055788e+05       2.572015   7390.625650    403.243596   \n",
       "min       17.000000  1.228500e+04       1.000000      0.000000      0.000000   \n",
       "25%       28.000000  1.178330e+05       9.000000      0.000000      0.000000   \n",
       "50%       37.000000  1.783560e+05      10.000000      0.000000      0.000000   \n",
       "75%       48.000000  2.370510e+05      12.000000      0.000000      0.000000   \n",
       "max       90.000000  1.484705e+06      16.000000  99999.000000   4356.000000   \n",
       "\n",
       "       hours_per_week  \n",
       "count    32513.000000  \n",
       "mean        40.440962  \n",
       "std         12.350184  \n",
       "min          1.000000  \n",
       "25%         40.000000  \n",
       "50%         40.000000  \n",
       "75%         45.000000  \n",
       "max         99.000000  "
      ]
     },
     "execution_count": 6,
     "metadata": {},
     "output_type": "execute_result"
    }
   ],
   "source": [
    "adult_df.describe()"
   ]
  },
  {
   "cell_type": "markdown",
   "id": "8b86c148-3693-40d4-be59-6a24b6dbdded",
   "metadata": {},
   "source": [
    "This summary provides a snapshot of key distribution characteristics. We see that:\n",
    "\n",
    "- Age ranges from 17 to 90, with a mean of 38.6 years. It is slightly right-skewed (positively skewed). While the average age is approximately 38.6 years, an examination of the percentiles reveals that the majority of individuals are clustered in the younger to middle-age range, with fewer observations in the older age brackets. This skewed age distribution might suggest labor force participation is concentrated in specific age groups, which could reflect broader demographic or economic realities.\n",
    "  \n",
    "- Capital gains/losses are highly skewed, with most values at 0 (the 75th percentile is 0). This indicates that a small number of individuals report very large gains or losses, especially evident in the capital gain variable which reaches up to $99,999. These variables act as proxies for wealth-related income that goes beyond regular wages or salaries. Individuals with non-zero values for capital gains or losses often represent a distinct socioeconomic subset of the population — typically more financially literate, or with access to investment assets. The stark inequality in their distributions mirrors real-world disparities in asset ownership and investment returns.\n",
    "  \n",
    "- The dataset has individuals working anywhere from 1 to 99 hours per week, with a median of 40. This aligns with the standard full-time work week in many countries (8 hours per day for 5 working days). The mean is slightly above that at 40.4 hours, suggesting a mild right skew, with a small subset of individuals working significantly longer hours. The mode is also 40, further reinforcing the prevalence of full-time work. A non-trivial number of individuals report working very few hours, possibly due to part-time work, unemployment, or semi-retirement. On the other extreme, some report working more than 45 hours per week, which may indicate multiple jobs, weekend-work, self-employment, or informal labor, and could reflect socioeconomic necessity.\n"
   ]
  },
  {
   "cell_type": "markdown",
   "id": "c7f23483-3efe-4a28-a7b2-b01ab176bf35",
   "metadata": {},
   "source": [
    "## Summary Statistics: Categorical Variables"
   ]
  },
  {
   "cell_type": "code",
   "execution_count": 7,
   "id": "4397f288-0b84-42d3-b3dd-7b6d14624b22",
   "metadata": {},
   "outputs": [
    {
     "data": {
      "text/html": [
       "<div>\n",
       "<style scoped>\n",
       "    .dataframe tbody tr th:only-of-type {\n",
       "        vertical-align: middle;\n",
       "    }\n",
       "\n",
       "    .dataframe tbody tr th {\n",
       "        vertical-align: top;\n",
       "    }\n",
       "\n",
       "    .dataframe thead th {\n",
       "        text-align: right;\n",
       "    }\n",
       "</style>\n",
       "<table border=\"1\" class=\"dataframe\">\n",
       "  <thead>\n",
       "    <tr style=\"text-align: right;\">\n",
       "      <th></th>\n",
       "      <th>workclass</th>\n",
       "      <th>marital_status</th>\n",
       "      <th>relationship</th>\n",
       "      <th>race</th>\n",
       "      <th>sex</th>\n",
       "      <th>income</th>\n",
       "      <th>education_level</th>\n",
       "      <th>occupation_grouped</th>\n",
       "      <th>native_region</th>\n",
       "      <th>age_group</th>\n",
       "    </tr>\n",
       "  </thead>\n",
       "  <tbody>\n",
       "    <tr>\n",
       "      <th>count</th>\n",
       "      <td>32513</td>\n",
       "      <td>32513</td>\n",
       "      <td>32513</td>\n",
       "      <td>32513</td>\n",
       "      <td>32513</td>\n",
       "      <td>32513</td>\n",
       "      <td>32513</td>\n",
       "      <td>32513</td>\n",
       "      <td>32513</td>\n",
       "      <td>32513</td>\n",
       "    </tr>\n",
       "    <tr>\n",
       "      <th>unique</th>\n",
       "      <td>6</td>\n",
       "      <td>4</td>\n",
       "      <td>5</td>\n",
       "      <td>5</td>\n",
       "      <td>2</td>\n",
       "      <td>2</td>\n",
       "      <td>7</td>\n",
       "      <td>5</td>\n",
       "      <td>6</td>\n",
       "      <td>7</td>\n",
       "    </tr>\n",
       "    <tr>\n",
       "      <th>top</th>\n",
       "      <td>private</td>\n",
       "      <td>married</td>\n",
       "      <td>male spouse</td>\n",
       "      <td>white</td>\n",
       "      <td>male</td>\n",
       "      <td>&lt;=50k</td>\n",
       "      <td>secondary-school graduate</td>\n",
       "      <td>white collar</td>\n",
       "      <td>north america</td>\n",
       "      <td>26-35</td>\n",
       "    </tr>\n",
       "    <tr>\n",
       "      <th>freq</th>\n",
       "      <td>22650</td>\n",
       "      <td>14984</td>\n",
       "      <td>13178</td>\n",
       "      <td>27771</td>\n",
       "      <td>21758</td>\n",
       "      <td>24677</td>\n",
       "      <td>10484</td>\n",
       "      <td>16532</td>\n",
       "      <td>30018</td>\n",
       "      <td>8501</td>\n",
       "    </tr>\n",
       "  </tbody>\n",
       "</table>\n",
       "</div>"
      ],
      "text/plain": [
       "       workclass marital_status relationship   race    sex income  \\\n",
       "count      32513          32513        32513  32513  32513  32513   \n",
       "unique         6              4            5      5      2      2   \n",
       "top      private        married  male spouse  white   male  <=50k   \n",
       "freq       22650          14984        13178  27771  21758  24677   \n",
       "\n",
       "                  education_level occupation_grouped  native_region age_group  \n",
       "count                       32513              32513          32513     32513  \n",
       "unique                          7                  5              6         7  \n",
       "top     secondary-school graduate       white collar  north america     26-35  \n",
       "freq                        10484              16532          30018      8501  "
      ]
     },
     "execution_count": 7,
     "metadata": {},
     "output_type": "execute_result"
    }
   ],
   "source": [
    "adult_df.describe(include='object')"
   ]
  },
  {
   "cell_type": "code",
   "execution_count": 32,
   "id": "1fae12c2-da6b-4e4f-a29e-d4d144fa8acb",
   "metadata": {},
   "outputs": [
    {
     "data": {
      "text/html": [
       "<div>\n",
       "<style scoped>\n",
       "    .dataframe tbody tr th:only-of-type {\n",
       "        vertical-align: middle;\n",
       "    }\n",
       "\n",
       "    .dataframe tbody tr th {\n",
       "        vertical-align: top;\n",
       "    }\n",
       "\n",
       "    .dataframe thead th {\n",
       "        text-align: right;\n",
       "    }\n",
       "</style>\n",
       "<table border=\"1\" class=\"dataframe\">\n",
       "  <thead>\n",
       "    <tr style=\"text-align: right;\">\n",
       "      <th></th>\n",
       "      <th>unique values</th>\n",
       "      <th>proportion</th>\n",
       "    </tr>\n",
       "  </thead>\n",
       "  <tbody>\n",
       "    <tr>\n",
       "      <th>0</th>\n",
       "      <td>private</td>\n",
       "      <td>0.696644</td>\n",
       "    </tr>\n",
       "    <tr>\n",
       "      <th>1</th>\n",
       "      <td>government</td>\n",
       "      <td>0.133793</td>\n",
       "    </tr>\n",
       "    <tr>\n",
       "      <th>2</th>\n",
       "      <td>self-employed</td>\n",
       "      <td>0.112447</td>\n",
       "    </tr>\n",
       "    <tr>\n",
       "      <th>3</th>\n",
       "      <td>unknown</td>\n",
       "      <td>0.056470</td>\n",
       "    </tr>\n",
       "    <tr>\n",
       "      <th>4</th>\n",
       "      <td>voluntary</td>\n",
       "      <td>0.000431</td>\n",
       "    </tr>\n",
       "    <tr>\n",
       "      <th>5</th>\n",
       "      <td>unemployed</td>\n",
       "      <td>0.000215</td>\n",
       "    </tr>\n",
       "  </tbody>\n",
       "</table>\n",
       "</div>"
      ],
      "text/plain": [
       "   unique values  proportion\n",
       "0        private    0.696644\n",
       "1     government    0.133793\n",
       "2  self-employed    0.112447\n",
       "3        unknown    0.056470\n",
       "4      voluntary    0.000431\n",
       "5     unemployed    0.000215"
      ]
     },
     "execution_count": 32,
     "metadata": {},
     "output_type": "execute_result"
    }
   ],
   "source": [
    "adult_df['workclass'].value_counts(normalize=True).rename_axis('unique values').reset_index(name='proportion')"
   ]
  },
  {
   "cell_type": "code",
   "execution_count": 9,
   "id": "527c8ee7-5132-4d84-b6eb-f3112ddf01be",
   "metadata": {},
   "outputs": [
    {
     "data": {
      "text/plain": [
       "marital_status\n",
       "married                  0.460862\n",
       "single                   0.327684\n",
       "divorced or separated    0.180912\n",
       "widowed                  0.030542\n",
       "Name: proportion, dtype: float64"
      ]
     },
     "execution_count": 9,
     "metadata": {},
     "output_type": "execute_result"
    }
   ],
   "source": [
    "adult_df['marital_status'].value_counts(normalize=True)"
   ]
  },
  {
   "cell_type": "code",
   "execution_count": 10,
   "id": "be8d8316-3f07-4b04-9623-ec1424d7bffe",
   "metadata": {},
   "outputs": [
    {
     "data": {
      "text/plain": [
       "relationship\n",
       "male spouse          0.405315\n",
       "single               0.360686\n",
       "child                0.155599\n",
       "female spouse        0.048227\n",
       "extended relative    0.030173\n",
       "Name: proportion, dtype: float64"
      ]
     },
     "execution_count": 10,
     "metadata": {},
     "output_type": "execute_result"
    }
   ],
   "source": [
    "adult_df['relationship'].value_counts(normalize=True)"
   ]
  },
  {
   "cell_type": "code",
   "execution_count": 11,
   "id": "75d3a0bd-2745-46a1-8f0f-dd1c5e0312e7",
   "metadata": {},
   "outputs": [
    {
     "data": {
      "text/plain": [
       "race\n",
       "white                        0.854151\n",
       "black                        0.096023\n",
       "asian or pacific islander    0.031926\n",
       "american indian or eskimo    0.009565\n",
       "other                        0.008335\n",
       "Name: proportion, dtype: float64"
      ]
     },
     "execution_count": 11,
     "metadata": {},
     "output_type": "execute_result"
    }
   ],
   "source": [
    "adult_df['race'].value_counts(normalize=True)"
   ]
  },
  {
   "cell_type": "code",
   "execution_count": 12,
   "id": "d9aad236-c9ac-4e80-9ac5-7d0c993d070b",
   "metadata": {},
   "outputs": [
    {
     "data": {
      "text/plain": [
       "sex\n",
       "male      0.669209\n",
       "female    0.330791\n",
       "Name: proportion, dtype: float64"
      ]
     },
     "execution_count": 12,
     "metadata": {},
     "output_type": "execute_result"
    }
   ],
   "source": [
    "adult_df['sex'].value_counts(normalize=True)"
   ]
  },
  {
   "cell_type": "code",
   "execution_count": 13,
   "id": "f9203561-8e83-467d-ab6a-d2c230f58cfb",
   "metadata": {},
   "outputs": [
    {
     "data": {
      "text/plain": [
       "education_level\n",
       "secondary-school graduate    0.322456\n",
       "tertiary                     0.247809\n",
       "some college                 0.223787\n",
       "secondary                    0.093932\n",
       "associate                    0.075324\n",
       "primary                      0.035155\n",
       "preschool                    0.001538\n",
       "Name: proportion, dtype: float64"
      ]
     },
     "execution_count": 13,
     "metadata": {},
     "output_type": "execute_result"
    }
   ],
   "source": [
    "adult_df['education_level'].value_counts(normalize=True)"
   ]
  },
  {
   "cell_type": "code",
   "execution_count": 14,
   "id": "c425e3fb-fe2a-419a-9e10-0be3e290ea7b",
   "metadata": {},
   "outputs": [
    {
     "data": {
      "text/plain": [
       "occupation_grouped\n",
       "white collar    0.508474\n",
       "blue collar     0.308861\n",
       "service         0.125704\n",
       "unknown         0.056685\n",
       "military        0.000277\n",
       "Name: proportion, dtype: float64"
      ]
     },
     "execution_count": 14,
     "metadata": {},
     "output_type": "execute_result"
    }
   ],
   "source": [
    "adult_df['occupation_grouped'].value_counts(normalize=True)"
   ]
  },
  {
   "cell_type": "code",
   "execution_count": 15,
   "id": "183eb224-5489-4cd0-8f93-10c5f63b4a6b",
   "metadata": {},
   "outputs": [
    {
     "data": {
      "text/plain": [
       "native_region\n",
       "north america      0.923261\n",
       "asia               0.020638\n",
       "other              0.017870\n",
       "central america    0.016117\n",
       "europe             0.016024\n",
       "south america      0.006090\n",
       "Name: proportion, dtype: float64"
      ]
     },
     "execution_count": 15,
     "metadata": {},
     "output_type": "execute_result"
    }
   ],
   "source": [
    "adult_df['native_region'].value_counts(normalize=True)"
   ]
  },
  {
   "cell_type": "code",
   "execution_count": 16,
   "id": "dd3ea4ca-83d6-4bad-a265-ab1bcdd51b3b",
   "metadata": {},
   "outputs": [
    {
     "data": {
      "text/plain": [
       "age_group\n",
       "26-35    0.261465\n",
       "36-45    0.246086\n",
       "46-60    0.224156\n",
       "18-25    0.167533\n",
       "61-75    0.064313\n",
       "<18      0.029065\n",
       "76+      0.007382\n",
       "Name: proportion, dtype: float64"
      ]
     },
     "execution_count": 16,
     "metadata": {},
     "output_type": "execute_result"
    }
   ],
   "source": [
    "adult_df['age_group'].value_counts(normalize=True)"
   ]
  },
  {
   "cell_type": "markdown",
   "id": "4721f110-c632-457b-a65e-9b41c91b4db1",
   "metadata": {},
   "source": [
    "`workclass`\n",
    "\n",
    "The private sector dominates, employing ~69.7% of the population. The government sector (13.4%) and self-employment (11.2%) also make up substantial portions of the workforce. A small fraction is labeled as \"unknown\" (5.6%), which may correspond to missing or ambiguous data entries. Tiny proportions are voluntary (0.04%) or unemployed (0.02%), possibly underreported or underrepresented in the sample.\n",
    "\n",
    "`marital_status`\n",
    "\n",
    "Married individuals make up the largest group (46.1%), followed by those who are single (32.8%) and divorced or separated (18.1%). Widowed individuals represent a small minority (~3.1%).\n",
    "\n",
    "`relationship`\n",
    "\n",
    "The majority are labeled as \"male spouse\" (40.5%) or \"single\" (36.1%). Smaller categories include children (15.6%), female spouses (4.8%), and extended relatives (3.0%). The dominance of `male spouse` reflects the dataset’s gendered structure and may point to traditional family roles. The relative scarcity of \"female spouse\" roles suggests potential gender imbalances in how income-earning is reported within households.\n",
    "\n",
    "`race`\n",
    "\n",
    "The dataset is overwhelmingly composed of White individuals (~85.4%). Other racial groups include Black (9.6%), Asian or Pacific Islander (3.2%), American Indian or Eskimo (1.0%), and Other (0.8%). The racial imbalance limits the generalizability of models trained on this data. Smaller racial groups may suffer from limited statistical power, affecting fairness and performance in predictive modeling.\n",
    "\n",
    "`sex`\n",
    "\n",
    "Males constitute 66.9% of the dataset, with females making up the remaining 33.1%. This male-skewed distribution could be due to sampling (e.g., primary earners in households), workforce participation patterns, or reporting biases.\n",
    "\n",
    "`education_level`\n",
    "\n",
    "Secondary-school graduates form the largest educational group (~32%), highlighting the central role of high school completion in the labor force. Tertiary education holders — those with university or equivalent degrees — account for nearly 25% of the population, representing a substantial segment with advanced qualifications. A notable 22.4% have attended some college without necessarily earning a degree, suggesting that partial post-secondary education is common, yet may not always translate into formal certification. The remaining 20% are distributed among those with only secondary education (9.4%), associate degrees (7.5%), primary school (3.5%), and a very small group with only preschool education (0.15%). It is ecident that the education distribution is skewed toward mid- to high-level education, with relatively few individuals having only basic schooling. This reflects a dataset that largely captures working-age adults in formal labor, which may underrepresent the least-educated populations.\n",
    "\n",
    "`occupation_grouped`\n",
    "\n",
    "White-collar occupations are the most prevalent (~51%), followed by blue-collar, service, and unknown. Smaller categories include military, which is marginal. Essentially, slightly over half of individuals in the dataset work in professional, managerial, sales, clerical, or tech-support roles. This suggests the dataset is heavily weighted toward professional and administrative occupations. Nearly a third of the population works in manual labor or skilled trade positions (craft, transport, machine operation, farming, etc.). This indicates a significant segment engaged in physically intensive or technical labor.\n",
    "\n",
    "`native_region`\n",
    "\n",
    "The vast majority of individuals are from North America (~92.3%). Smaller proportions are from Central America, Asia, Europe, South America, and a generic Other category. The heavy concentration of North American individuals reflects the U.S. focus of the dataset. \n",
    "\n",
    "`age_group`\n",
    "\n",
    "The largest groups are 26–35 and 36–45, followed by 46–60. These three age groups represent about 73% of the dataset. Very few individuals are under 18 or above 75, consistent with the dataset's focus on the working-age population."
   ]
  },
  {
   "cell_type": "markdown",
   "id": "dc00ec42-7e65-4b8e-b917-30f0700803c1",
   "metadata": {},
   "source": [
    "## Income Distribution\n",
    "\n",
    "Given that `income` is the target variable, most of the analysis hereafter will be based on it. We first of all examine the income distribution in the dataset."
   ]
  },
  {
   "cell_type": "code",
   "execution_count": 17,
   "id": "cb998c90-190d-49d9-966a-3465f1e0add8",
   "metadata": {},
   "outputs": [
    {
     "data": {
      "text/html": [
       "<div>\n",
       "<style scoped>\n",
       "    .dataframe tbody tr th:only-of-type {\n",
       "        vertical-align: middle;\n",
       "    }\n",
       "\n",
       "    .dataframe tbody tr th {\n",
       "        vertical-align: top;\n",
       "    }\n",
       "\n",
       "    .dataframe thead th {\n",
       "        text-align: right;\n",
       "    }\n",
       "</style>\n",
       "<table border=\"1\" class=\"dataframe\">\n",
       "  <thead>\n",
       "    <tr style=\"text-align: right;\">\n",
       "      <th></th>\n",
       "      <th>income</th>\n",
       "      <th>total</th>\n",
       "    </tr>\n",
       "  </thead>\n",
       "  <tbody>\n",
       "    <tr>\n",
       "      <th>0</th>\n",
       "      <td>&lt;=50k</td>\n",
       "      <td>24677</td>\n",
       "    </tr>\n",
       "    <tr>\n",
       "      <th>1</th>\n",
       "      <td>&gt;50k</td>\n",
       "      <td>7836</td>\n",
       "    </tr>\n",
       "  </tbody>\n",
       "</table>\n",
       "</div>"
      ],
      "text/plain": [
       "  income  total\n",
       "0  <=50k  24677\n",
       "1   >50k   7836"
      ]
     },
     "execution_count": 17,
     "metadata": {},
     "output_type": "execute_result"
    }
   ],
   "source": [
    "adult_df_income = adult_df.groupby('income').size().reset_index(name='total')\n",
    "adult_df_income"
   ]
  },
  {
   "cell_type": "code",
   "execution_count": 18,
   "id": "e7243034-b59b-4ec8-ac7e-90a2be6ae16a",
   "metadata": {},
   "outputs": [
    {
     "data": {
      "application/vnd.plotly.v1+json": {
       "config": {
        "plotlyServerURL": "https://plot.ly"
       },
       "data": [
        {
         "domain": {
          "x": [
           0,
           1
          ],
          "y": [
           0,
           1
          ]
         },
         "hovertemplate": "income=%{label}<br>total=%{value}<extra></extra>",
         "labels": [
          "<=50k",
          ">50k"
         ],
         "legendgroup": "",
         "name": "",
         "showlegend": true,
         "type": "pie",
         "values": {
          "_inputArray": {
           "0": 24677,
           "1": 7836,
           "bdata": "ZWCcHg==",
           "dtype": "i2",
           "shape": "2"
          },
          "bdata": "ZWCcHg==",
          "dtype": "i2"
         }
        }
       ],
       "layout": {
        "autosize": true,
        "legend": {
         "title": {
          "text": "Income Level"
         },
         "tracegroupgap": 0
        },
        "paper_bgcolor": "rgba(0, 0, 0, 0)",
        "piecolorway": [
         "rgb(103,0,31)",
         "rgb(178,24,43)",
         "rgb(214,96,77)",
         "rgb(244,165,130)",
         "rgb(253,219,199)",
         "rgb(247,247,247)",
         "rgb(209,229,240)",
         "rgb(146,197,222)",
         "rgb(67,147,195)",
         "rgb(33,102,172)",
         "rgb(5,48,97)"
        ],
        "plot_bgcolor": "rgba(0, 0, 0, 0)",
        "template": {
         "data": {
          "pie": [
           {
            "automargin": true,
            "type": "pie"
           }
          ],
          "scatter": [
           {
            "line": {
             "width": 3
            },
            "marker": {
             "size": 9
            },
            "type": "scatter"
           }
          ],
          "scatter3d": [
           {
            "line": {
             "width": 3
            },
            "marker": {
             "size": 9
            },
            "type": "scatter3d"
           }
          ],
          "scattergeo": [
           {
            "line": {
             "width": 3
            },
            "marker": {
             "size": 9
            },
            "type": "scattergeo"
           }
          ],
          "scattergl": [
           {
            "line": {
             "width": 3
            },
            "marker": {
             "size": 9
            },
            "type": "scattergl"
           }
          ],
          "scatterpolar": [
           {
            "line": {
             "width": 3
            },
            "marker": {
             "size": 9
            },
            "type": "scatterpolar"
           }
          ],
          "scatterpolargl": [
           {
            "line": {
             "width": 3
            },
            "marker": {
             "size": 9
            },
            "type": "scatterpolargl"
           }
          ],
          "scatterternary": [
           {
            "line": {
             "width": 3
            },
            "marker": {
             "size": 9
            },
            "type": "scatterternary"
           }
          ],
          "table": [
           {
            "cells": {
             "height": 30
            },
            "header": {
             "height": 36
            },
            "type": "table"
           }
          ]
         },
         "layout": {
          "font": {
           "size": 18
          },
          "xaxis": {
           "title": {
            "standoff": 15
           }
          },
          "yaxis": {
           "title": {
            "standoff": 15
           }
          }
         }
        },
        "title": {
         "text": "Overall Income Distribution"
        }
       }
      }
     },
     "metadata": {},
     "output_type": "display_data"
    }
   ],
   "source": [
    "fig = px.pie(adult_df_income, names='income', values='total', title='Overall Income Distribution', color_discrete_sequence=px.colors.sequential.RdBu)\n",
    "fig.update_layout(template=\"presentation\", legend_title=dict(text='Income Level'), paper_bgcolor = \"rgba(0, 0, 0, 0)\", plot_bgcolor = \"rgba(0, 0, 0, 0)\")\n",
    "fig.show()\n",
    "fig.write_image(os.path.join(results_dir, 'income_distribution_pie_chart.jpg'))\n",
    "fig.write_image(os.path.join(results_dir, 'income_distribution_pie_chart.png'))\n",
    "fig.write_html(os.path.join(results_dir, 'income_distribution_pie_chart.html'))"
   ]
  },
  {
   "cell_type": "markdown",
   "id": "7cc7834a-43db-4a75-9fff-a34bf69ff05a",
   "metadata": {},
   "source": [
    "This pie chart visualizes the overall income split: 76% of individuals earn ≤50K, while 24% earn >50K. This means that nearly 3 out of 4 individuals fall into the lower income bracket (<=50K). This shows that there is a significant imbalance."
   ]
  },
  {
   "cell_type": "markdown",
   "id": "52482c8b-d656-4b36-a100-39952bdda10a",
   "metadata": {},
   "source": [
    "## Income by Age Group"
   ]
  },
  {
   "cell_type": "code",
   "execution_count": 19,
   "id": "6cd79b26-63ab-4461-a131-a5026043e23f",
   "metadata": {},
   "outputs": [
    {
     "data": {
      "text/html": [
       "<div>\n",
       "<style scoped>\n",
       "    .dataframe tbody tr th:only-of-type {\n",
       "        vertical-align: middle;\n",
       "    }\n",
       "\n",
       "    .dataframe tbody tr th {\n",
       "        vertical-align: top;\n",
       "    }\n",
       "\n",
       "    .dataframe thead th {\n",
       "        text-align: right;\n",
       "    }\n",
       "</style>\n",
       "<table border=\"1\" class=\"dataframe\">\n",
       "  <thead>\n",
       "    <tr style=\"text-align: right;\">\n",
       "      <th></th>\n",
       "      <th>age_group</th>\n",
       "      <th>income</th>\n",
       "      <th>total_by_age</th>\n",
       "    </tr>\n",
       "  </thead>\n",
       "  <tbody>\n",
       "    <tr>\n",
       "      <th>0</th>\n",
       "      <td>18-25</td>\n",
       "      <td>&lt;=50k</td>\n",
       "      <td>5333</td>\n",
       "    </tr>\n",
       "    <tr>\n",
       "      <th>1</th>\n",
       "      <td>18-25</td>\n",
       "      <td>&gt;50k</td>\n",
       "      <td>114</td>\n",
       "    </tr>\n",
       "    <tr>\n",
       "      <th>2</th>\n",
       "      <td>26-35</td>\n",
       "      <td>&lt;=50k</td>\n",
       "      <td>6910</td>\n",
       "    </tr>\n",
       "    <tr>\n",
       "      <th>3</th>\n",
       "      <td>26-35</td>\n",
       "      <td>&gt;50k</td>\n",
       "      <td>1591</td>\n",
       "    </tr>\n",
       "    <tr>\n",
       "      <th>4</th>\n",
       "      <td>36-45</td>\n",
       "      <td>&lt;=50k</td>\n",
       "      <td>5230</td>\n",
       "    </tr>\n",
       "    <tr>\n",
       "      <th>5</th>\n",
       "      <td>36-45</td>\n",
       "      <td>&gt;50k</td>\n",
       "      <td>2771</td>\n",
       "    </tr>\n",
       "    <tr>\n",
       "      <th>6</th>\n",
       "      <td>46-60</td>\n",
       "      <td>&lt;=50k</td>\n",
       "      <td>4479</td>\n",
       "    </tr>\n",
       "    <tr>\n",
       "      <th>7</th>\n",
       "      <td>46-60</td>\n",
       "      <td>&gt;50k</td>\n",
       "      <td>2809</td>\n",
       "    </tr>\n",
       "    <tr>\n",
       "      <th>8</th>\n",
       "      <td>61-75</td>\n",
       "      <td>&lt;=50k</td>\n",
       "      <td>1580</td>\n",
       "    </tr>\n",
       "    <tr>\n",
       "      <th>9</th>\n",
       "      <td>61-75</td>\n",
       "      <td>&gt;50k</td>\n",
       "      <td>511</td>\n",
       "    </tr>\n",
       "    <tr>\n",
       "      <th>10</th>\n",
       "      <td>76+</td>\n",
       "      <td>&lt;=50k</td>\n",
       "      <td>200</td>\n",
       "    </tr>\n",
       "    <tr>\n",
       "      <th>11</th>\n",
       "      <td>76+</td>\n",
       "      <td>&gt;50k</td>\n",
       "      <td>40</td>\n",
       "    </tr>\n",
       "    <tr>\n",
       "      <th>12</th>\n",
       "      <td>&lt;18</td>\n",
       "      <td>&lt;=50k</td>\n",
       "      <td>945</td>\n",
       "    </tr>\n",
       "  </tbody>\n",
       "</table>\n",
       "</div>"
      ],
      "text/plain": [
       "   age_group income  total_by_age\n",
       "0      18-25  <=50k          5333\n",
       "1      18-25   >50k           114\n",
       "2      26-35  <=50k          6910\n",
       "3      26-35   >50k          1591\n",
       "4      36-45  <=50k          5230\n",
       "5      36-45   >50k          2771\n",
       "6      46-60  <=50k          4479\n",
       "7      46-60   >50k          2809\n",
       "8      61-75  <=50k          1580\n",
       "9      61-75   >50k           511\n",
       "10       76+  <=50k           200\n",
       "11       76+   >50k            40\n",
       "12       <18  <=50k           945"
      ]
     },
     "execution_count": 19,
     "metadata": {},
     "output_type": "execute_result"
    }
   ],
   "source": [
    "adult_df_income_age = adult_df.groupby(['age_group', 'income']).size().reset_index(name='total_by_age').sort_values(['age_group', 'income'])\n",
    "adult_df_income_age"
   ]
  },
  {
   "cell_type": "code",
   "execution_count": 20,
   "id": "6cbda943-9231-4ada-8365-6dd7d3039e62",
   "metadata": {},
   "outputs": [
    {
     "data": {
      "text/html": [
       "<div>\n",
       "<style scoped>\n",
       "    .dataframe tbody tr th:only-of-type {\n",
       "        vertical-align: middle;\n",
       "    }\n",
       "\n",
       "    .dataframe tbody tr th {\n",
       "        vertical-align: top;\n",
       "    }\n",
       "\n",
       "    .dataframe thead th {\n",
       "        text-align: right;\n",
       "    }\n",
       "</style>\n",
       "<table border=\"1\" class=\"dataframe\">\n",
       "  <thead>\n",
       "    <tr style=\"text-align: right;\">\n",
       "      <th></th>\n",
       "      <th>age_group</th>\n",
       "      <th>income</th>\n",
       "      <th>total_by_age</th>\n",
       "      <th>percentage</th>\n",
       "    </tr>\n",
       "  </thead>\n",
       "  <tbody>\n",
       "    <tr>\n",
       "      <th>0</th>\n",
       "      <td>18-25</td>\n",
       "      <td>&lt;=50k</td>\n",
       "      <td>5333</td>\n",
       "      <td>97.907105</td>\n",
       "    </tr>\n",
       "    <tr>\n",
       "      <th>1</th>\n",
       "      <td>18-25</td>\n",
       "      <td>&gt;50k</td>\n",
       "      <td>114</td>\n",
       "      <td>2.092895</td>\n",
       "    </tr>\n",
       "    <tr>\n",
       "      <th>2</th>\n",
       "      <td>26-35</td>\n",
       "      <td>&lt;=50k</td>\n",
       "      <td>6910</td>\n",
       "      <td>81.284555</td>\n",
       "    </tr>\n",
       "    <tr>\n",
       "      <th>3</th>\n",
       "      <td>26-35</td>\n",
       "      <td>&gt;50k</td>\n",
       "      <td>1591</td>\n",
       "      <td>18.715445</td>\n",
       "    </tr>\n",
       "    <tr>\n",
       "      <th>4</th>\n",
       "      <td>36-45</td>\n",
       "      <td>&lt;=50k</td>\n",
       "      <td>5230</td>\n",
       "      <td>65.366829</td>\n",
       "    </tr>\n",
       "    <tr>\n",
       "      <th>5</th>\n",
       "      <td>36-45</td>\n",
       "      <td>&gt;50k</td>\n",
       "      <td>2771</td>\n",
       "      <td>34.633171</td>\n",
       "    </tr>\n",
       "    <tr>\n",
       "      <th>6</th>\n",
       "      <td>46-60</td>\n",
       "      <td>&lt;=50k</td>\n",
       "      <td>4479</td>\n",
       "      <td>61.457190</td>\n",
       "    </tr>\n",
       "    <tr>\n",
       "      <th>7</th>\n",
       "      <td>46-60</td>\n",
       "      <td>&gt;50k</td>\n",
       "      <td>2809</td>\n",
       "      <td>38.542810</td>\n",
       "    </tr>\n",
       "    <tr>\n",
       "      <th>8</th>\n",
       "      <td>61-75</td>\n",
       "      <td>&lt;=50k</td>\n",
       "      <td>1580</td>\n",
       "      <td>75.561932</td>\n",
       "    </tr>\n",
       "    <tr>\n",
       "      <th>9</th>\n",
       "      <td>61-75</td>\n",
       "      <td>&gt;50k</td>\n",
       "      <td>511</td>\n",
       "      <td>24.438068</td>\n",
       "    </tr>\n",
       "    <tr>\n",
       "      <th>10</th>\n",
       "      <td>76+</td>\n",
       "      <td>&lt;=50k</td>\n",
       "      <td>200</td>\n",
       "      <td>83.333333</td>\n",
       "    </tr>\n",
       "    <tr>\n",
       "      <th>11</th>\n",
       "      <td>76+</td>\n",
       "      <td>&gt;50k</td>\n",
       "      <td>40</td>\n",
       "      <td>16.666667</td>\n",
       "    </tr>\n",
       "    <tr>\n",
       "      <th>12</th>\n",
       "      <td>&lt;18</td>\n",
       "      <td>&lt;=50k</td>\n",
       "      <td>945</td>\n",
       "      <td>100.000000</td>\n",
       "    </tr>\n",
       "  </tbody>\n",
       "</table>\n",
       "</div>"
      ],
      "text/plain": [
       "   age_group income  total_by_age  percentage\n",
       "0      18-25  <=50k          5333   97.907105\n",
       "1      18-25   >50k           114    2.092895\n",
       "2      26-35  <=50k          6910   81.284555\n",
       "3      26-35   >50k          1591   18.715445\n",
       "4      36-45  <=50k          5230   65.366829\n",
       "5      36-45   >50k          2771   34.633171\n",
       "6      46-60  <=50k          4479   61.457190\n",
       "7      46-60   >50k          2809   38.542810\n",
       "8      61-75  <=50k          1580   75.561932\n",
       "9      61-75   >50k           511   24.438068\n",
       "10       76+  <=50k           200   83.333333\n",
       "11       76+   >50k            40   16.666667\n",
       "12       <18  <=50k           945  100.000000"
      ]
     },
     "execution_count": 20,
     "metadata": {},
     "output_type": "execute_result"
    }
   ],
   "source": [
    "total_per_group = adult_df_income_age.groupby('age_group')['total_by_age'].transform('sum')\n",
    "adult_df_income_age['percentage'] = (adult_df_income_age['total_by_age']/total_per_group) *100\n",
    "adult_df_income_age"
   ]
  },
  {
   "cell_type": "code",
   "execution_count": 21,
   "id": "b2962edc-7688-46ae-b70c-fbe83d755b3e",
   "metadata": {},
   "outputs": [
    {
     "data": {
      "application/vnd.plotly.v1+json": {
       "config": {
        "plotlyServerURL": "https://plot.ly"
       },
       "data": [
        {
         "alignmentgroup": "True",
         "hovertemplate": "income=<=50k<br>age_group=%{x}<br>percentage=%{text}<extra></extra>",
         "legendgroup": "<=50k",
         "marker": {
          "color": "rgb(103,0,31)",
          "pattern": {
           "shape": ""
          }
         },
         "name": "<=50k",
         "offsetgroup": "<=50k",
         "orientation": "v",
         "showlegend": true,
         "text": {
          "_inputArray": {
           "0": 97.90710482834588,
           "1": 81.28455475826374,
           "2": 65.36682914635671,
           "3": 61.457189901207464,
           "4": 75.56193208990913,
           "5": 83.33333333333334,
           "6": 100,
           "bdata": "g/JoAQ56WEB+KiklNlJUQJa09CB6V1BAr9/cMoW6TkDkLgOy9uNSQFZVVVVV1VRAAAAAAAAAWUA=",
           "dtype": "f8",
           "shape": "7"
          },
          "bdata": "g/JoAQ56WEB+KiklNlJUQJa09CB6V1BAr9/cMoW6TkDkLgOy9uNSQFZVVVVV1VRAAAAAAAAAWUA=",
          "dtype": "f8"
         },
         "textposition": "outside",
         "texttemplate": "%{text:.2f}%",
         "type": "bar",
         "x": [
          "18-25",
          "26-35",
          "36-45",
          "46-60",
          "61-75",
          "76+",
          "<18"
         ],
         "xaxis": "x",
         "y": {
          "_inputArray": {
           "0": 97.90710482834588,
           "1": 81.28455475826374,
           "2": 65.36682914635671,
           "3": 61.457189901207464,
           "4": 75.56193208990913,
           "5": 83.33333333333334,
           "6": 100,
           "bdata": "g/JoAQ56WEB+KiklNlJUQJa09CB6V1BAr9/cMoW6TkDkLgOy9uNSQFZVVVVV1VRAAAAAAAAAWUA=",
           "dtype": "f8",
           "shape": "7"
          },
          "bdata": "g/JoAQ56WEB+KiklNlJUQJa09CB6V1BAr9/cMoW6TkDkLgOy9uNSQFZVVVVV1VRAAAAAAAAAWUA=",
          "dtype": "f8"
         },
         "yaxis": "y"
        },
        {
         "alignmentgroup": "True",
         "hovertemplate": "income=>50k<br>age_group=%{x}<br>percentage=%{text}<extra></extra>",
         "legendgroup": ">50k",
         "marker": {
          "color": "rgb(178,24,43)",
          "pattern": {
           "shape": ""
          }
         },
         "name": ">50k",
         "offsetgroup": ">50k",
         "orientation": "v",
         "showlegend": true,
         "text": {
          "_inputArray": {
           "0": 2.0928951716541215,
           "1": 18.715445241736266,
           "2": 34.6331708536433,
           "3": 38.542810098792536,
           "4": 24.438067910090865,
           "5": 16.666666666666664,
           "bdata": "oq/h0j++AEAJVltrJ7cyQNWWFr4LUUFAUSAjzXpFQ0BwRPM3JXA4QKqqqqqqqjBA",
           "dtype": "f8",
           "shape": "6"
          },
          "bdata": "oq/h0j++AEAJVltrJ7cyQNWWFr4LUUFAUSAjzXpFQ0BwRPM3JXA4QKqqqqqqqjBA",
          "dtype": "f8"
         },
         "textposition": "outside",
         "texttemplate": "%{text:.2f}%",
         "type": "bar",
         "x": [
          "18-25",
          "26-35",
          "36-45",
          "46-60",
          "61-75",
          "76+"
         ],
         "xaxis": "x",
         "y": {
          "_inputArray": {
           "0": 2.0928951716541215,
           "1": 18.715445241736266,
           "2": 34.6331708536433,
           "3": 38.542810098792536,
           "4": 24.438067910090865,
           "5": 16.666666666666664,
           "bdata": "oq/h0j++AEAJVltrJ7cyQNWWFr4LUUFAUSAjzXpFQ0BwRPM3JXA4QKqqqqqqqjBA",
           "dtype": "f8",
           "shape": "6"
          },
          "bdata": "oq/h0j++AEAJVltrJ7cyQNWWFr4LUUFAUSAjzXpFQ0BwRPM3JXA4QKqqqqqqqjBA",
          "dtype": "f8"
         },
         "yaxis": "y"
        }
       ],
       "layout": {
        "autosize": true,
        "barmode": "group",
        "legend": {
         "title": {
          "text": "Income Level"
         },
         "tracegroupgap": 0
        },
        "paper_bgcolor": "rgba(0, 0, 0, 0)",
        "plot_bgcolor": "rgba(0, 0, 0, 0)",
        "template": {
         "data": {
          "pie": [
           {
            "automargin": true,
            "type": "pie"
           }
          ],
          "scatter": [
           {
            "line": {
             "width": 3
            },
            "marker": {
             "size": 9
            },
            "type": "scatter"
           }
          ],
          "scatter3d": [
           {
            "line": {
             "width": 3
            },
            "marker": {
             "size": 9
            },
            "type": "scatter3d"
           }
          ],
          "scattergeo": [
           {
            "line": {
             "width": 3
            },
            "marker": {
             "size": 9
            },
            "type": "scattergeo"
           }
          ],
          "scattergl": [
           {
            "line": {
             "width": 3
            },
            "marker": {
             "size": 9
            },
            "type": "scattergl"
           }
          ],
          "scatterpolar": [
           {
            "line": {
             "width": 3
            },
            "marker": {
             "size": 9
            },
            "type": "scatterpolar"
           }
          ],
          "scatterpolargl": [
           {
            "line": {
             "width": 3
            },
            "marker": {
             "size": 9
            },
            "type": "scatterpolargl"
           }
          ],
          "scatterternary": [
           {
            "line": {
             "width": 3
            },
            "marker": {
             "size": 9
            },
            "type": "scatterternary"
           }
          ],
          "table": [
           {
            "cells": {
             "height": 30
            },
            "header": {
             "height": 36
            },
            "type": "table"
           }
          ]
         },
         "layout": {
          "font": {
           "size": 18
          },
          "xaxis": {
           "title": {
            "standoff": 15
           }
          },
          "yaxis": {
           "title": {
            "standoff": 15
           }
          }
         }
        },
        "title": {
         "text": "Income Distribution by Age Group (%)"
        },
        "xaxis": {
         "anchor": "y",
         "autorange": true,
         "domain": [
          0,
          1
         ],
         "range": [
          -0.5,
          6.5
         ],
         "title": {
          "text": "Age Group"
         },
         "type": "category"
        },
        "yaxis": {
         "anchor": "x",
         "autorange": true,
         "domain": [
          0,
          1
         ],
         "range": [
          0,
          105.26315789473685
         ],
         "title": {
          "text": "Percentage of population"
         },
         "type": "linear"
        }
       }
      }
     },
     "metadata": {},
     "output_type": "display_data"
    }
   ],
   "source": [
    "fig = px.bar(\n",
    "    adult_df_income_age,\n",
    "    x = 'age_group',\n",
    "    y = 'percentage',\n",
    "    color = 'income',\n",
    "    title = 'Income Distribution by Age Group (%)',\n",
    "    barmode = 'group', \n",
    "    height = 500,\n",
    "    color_discrete_sequence=px.colors.sequential.RdBu,\n",
    "    text= 'percentage'\n",
    ")\n",
    "fig.update_traces(texttemplate='%{text:.2f}%', textposition='outside')\n",
    "fig.update_layout(template=\"presentation\", xaxis_title='Age Group', \n",
    "                  yaxis_title='Percentage of population', legend_title=dict(text='Income Level'),\n",
    "                  paper_bgcolor = \"rgba(0, 0, 0, 0)\", plot_bgcolor = \"rgba(0, 0, 0, 0)\")\n",
    "fig.show()\n",
    "fig.write_image(os.path.join(results_dir, 'income_distribution_by_agegroup_bar_plot.jpg'))\n",
    "fig.write_image(os.path.join(results_dir, 'income_distribution_by_agegroup_bar_plot.png'))\n",
    "fig.write_html(os.path.join(results_dir, 'income_distribution_by_agegroup_bar_plot.html'))"
   ]
  },
  {
   "cell_type": "markdown",
   "id": "1e1d2f41-02ad-4adf-a30e-630b9521fa06",
   "metadata": {},
   "source": [
    "The bar chart visualizes the income distribution across age groups, using percentages within each group. There is an evident pattern in terms of income progression over the years with a gradual increase in terms of the number of people earning >50K starting from 0 amongst those aged 18 and below, peaking between 36 and 60 years, then declining after 60 years but not to zero.\n",
    "\n",
    "All individuals under 18 earn <=50K, likely due to being students, minors, or ineligible for full-time employment. Extremely few young adults (2.1%) exceed 50K, as most are early in their careers, pursuing education, or in entry-level jobs. For the 26-35 age group, there's a noticeable improvement — roughly 1 in 5 individuals in this group earn >50K, reflecting early career progression and accumulation of qualifications/experience. A substantial income increase is seen in the 36-45 age group: over a third now earn >50K. This is typically considered prime earning age where individuals settle into stable, higher-paying positions. Highest proportion of >50K earners is seen amongst individuals aged between 46 and 60— nearly 4 in 10. This reflects career maturity, peak seniority levels, and accumulated experience. There's a drop-off in high incomes as many transition to retirement, part-time, or less demanding roles in the age group 61-75. Yet about 1 in 4 still earn >50K. Most in 76+ age group earn <=50K, likely due to retirement, pensions, or fixed incomes — but a small minority still earn higher incomes, possibly through continued work or investments."
   ]
  },
  {
   "cell_type": "markdown",
   "id": "7fd13bde-9823-4c6d-894d-221523948343",
   "metadata": {},
   "source": [
    "## Income by Native Region"
   ]
  },
  {
   "cell_type": "code",
   "execution_count": 22,
   "id": "611c5c0a-ffd6-4f3b-8bb5-a68e51251e40",
   "metadata": {},
   "outputs": [
    {
     "data": {
      "text/html": [
       "<div>\n",
       "<style scoped>\n",
       "    .dataframe tbody tr th:only-of-type {\n",
       "        vertical-align: middle;\n",
       "    }\n",
       "\n",
       "    .dataframe tbody tr th {\n",
       "        vertical-align: top;\n",
       "    }\n",
       "\n",
       "    .dataframe thead th {\n",
       "        text-align: right;\n",
       "    }\n",
       "</style>\n",
       "<table border=\"1\" class=\"dataframe\">\n",
       "  <thead>\n",
       "    <tr style=\"text-align: right;\">\n",
       "      <th></th>\n",
       "      <th>native_region</th>\n",
       "      <th>income</th>\n",
       "      <th>total_by_region</th>\n",
       "    </tr>\n",
       "  </thead>\n",
       "  <tbody>\n",
       "    <tr>\n",
       "      <th>0</th>\n",
       "      <td>asia</td>\n",
       "      <td>&lt;=50k</td>\n",
       "      <td>465</td>\n",
       "    </tr>\n",
       "    <tr>\n",
       "      <th>1</th>\n",
       "      <td>asia</td>\n",
       "      <td>&gt;50k</td>\n",
       "      <td>206</td>\n",
       "    </tr>\n",
       "    <tr>\n",
       "      <th>2</th>\n",
       "      <td>central america</td>\n",
       "      <td>&lt;=50k</td>\n",
       "      <td>466</td>\n",
       "    </tr>\n",
       "    <tr>\n",
       "      <th>3</th>\n",
       "      <td>central america</td>\n",
       "      <td>&gt;50k</td>\n",
       "      <td>58</td>\n",
       "    </tr>\n",
       "    <tr>\n",
       "      <th>4</th>\n",
       "      <td>europe</td>\n",
       "      <td>&lt;=50k</td>\n",
       "      <td>369</td>\n",
       "    </tr>\n",
       "    <tr>\n",
       "      <th>5</th>\n",
       "      <td>europe</td>\n",
       "      <td>&gt;50k</td>\n",
       "      <td>152</td>\n",
       "    </tr>\n",
       "    <tr>\n",
       "      <th>6</th>\n",
       "      <td>north america</td>\n",
       "      <td>&lt;=50k</td>\n",
       "      <td>22768</td>\n",
       "    </tr>\n",
       "    <tr>\n",
       "      <th>7</th>\n",
       "      <td>north america</td>\n",
       "      <td>&gt;50k</td>\n",
       "      <td>7250</td>\n",
       "    </tr>\n",
       "    <tr>\n",
       "      <th>8</th>\n",
       "      <td>other</td>\n",
       "      <td>&lt;=50k</td>\n",
       "      <td>435</td>\n",
       "    </tr>\n",
       "    <tr>\n",
       "      <th>9</th>\n",
       "      <td>other</td>\n",
       "      <td>&gt;50k</td>\n",
       "      <td>146</td>\n",
       "    </tr>\n",
       "    <tr>\n",
       "      <th>10</th>\n",
       "      <td>south america</td>\n",
       "      <td>&lt;=50k</td>\n",
       "      <td>174</td>\n",
       "    </tr>\n",
       "    <tr>\n",
       "      <th>11</th>\n",
       "      <td>south america</td>\n",
       "      <td>&gt;50k</td>\n",
       "      <td>24</td>\n",
       "    </tr>\n",
       "  </tbody>\n",
       "</table>\n",
       "</div>"
      ],
      "text/plain": [
       "      native_region income  total_by_region\n",
       "0              asia  <=50k              465\n",
       "1              asia   >50k              206\n",
       "2   central america  <=50k              466\n",
       "3   central america   >50k               58\n",
       "4            europe  <=50k              369\n",
       "5            europe   >50k              152\n",
       "6     north america  <=50k            22768\n",
       "7     north america   >50k             7250\n",
       "8             other  <=50k              435\n",
       "9             other   >50k              146\n",
       "10    south america  <=50k              174\n",
       "11    south america   >50k               24"
      ]
     },
     "execution_count": 22,
     "metadata": {},
     "output_type": "execute_result"
    }
   ],
   "source": [
    "adult_df_income_reg = adult_df.groupby(['native_region', 'income']).size().reset_index(name='total_by_region').sort_values(['native_region', 'income'])\n",
    "adult_df_income_reg"
   ]
  },
  {
   "cell_type": "code",
   "execution_count": 23,
   "id": "92c63a31-ef82-48e5-a559-0a6f8973caf0",
   "metadata": {},
   "outputs": [
    {
     "data": {
      "text/html": [
       "<div>\n",
       "<style scoped>\n",
       "    .dataframe tbody tr th:only-of-type {\n",
       "        vertical-align: middle;\n",
       "    }\n",
       "\n",
       "    .dataframe tbody tr th {\n",
       "        vertical-align: top;\n",
       "    }\n",
       "\n",
       "    .dataframe thead th {\n",
       "        text-align: right;\n",
       "    }\n",
       "</style>\n",
       "<table border=\"1\" class=\"dataframe\">\n",
       "  <thead>\n",
       "    <tr style=\"text-align: right;\">\n",
       "      <th></th>\n",
       "      <th>native_region</th>\n",
       "      <th>income</th>\n",
       "      <th>total_by_region</th>\n",
       "      <th>percentage</th>\n",
       "    </tr>\n",
       "  </thead>\n",
       "  <tbody>\n",
       "    <tr>\n",
       "      <th>0</th>\n",
       "      <td>asia</td>\n",
       "      <td>&lt;=50k</td>\n",
       "      <td>465</td>\n",
       "      <td>69.299553</td>\n",
       "    </tr>\n",
       "    <tr>\n",
       "      <th>1</th>\n",
       "      <td>asia</td>\n",
       "      <td>&gt;50k</td>\n",
       "      <td>206</td>\n",
       "      <td>30.700447</td>\n",
       "    </tr>\n",
       "    <tr>\n",
       "      <th>2</th>\n",
       "      <td>central america</td>\n",
       "      <td>&lt;=50k</td>\n",
       "      <td>466</td>\n",
       "      <td>88.931298</td>\n",
       "    </tr>\n",
       "    <tr>\n",
       "      <th>3</th>\n",
       "      <td>central america</td>\n",
       "      <td>&gt;50k</td>\n",
       "      <td>58</td>\n",
       "      <td>11.068702</td>\n",
       "    </tr>\n",
       "    <tr>\n",
       "      <th>4</th>\n",
       "      <td>europe</td>\n",
       "      <td>&lt;=50k</td>\n",
       "      <td>369</td>\n",
       "      <td>70.825336</td>\n",
       "    </tr>\n",
       "    <tr>\n",
       "      <th>5</th>\n",
       "      <td>europe</td>\n",
       "      <td>&gt;50k</td>\n",
       "      <td>152</td>\n",
       "      <td>29.174664</td>\n",
       "    </tr>\n",
       "    <tr>\n",
       "      <th>6</th>\n",
       "      <td>north america</td>\n",
       "      <td>&lt;=50k</td>\n",
       "      <td>22768</td>\n",
       "      <td>75.847825</td>\n",
       "    </tr>\n",
       "    <tr>\n",
       "      <th>7</th>\n",
       "      <td>north america</td>\n",
       "      <td>&gt;50k</td>\n",
       "      <td>7250</td>\n",
       "      <td>24.152175</td>\n",
       "    </tr>\n",
       "    <tr>\n",
       "      <th>8</th>\n",
       "      <td>other</td>\n",
       "      <td>&lt;=50k</td>\n",
       "      <td>435</td>\n",
       "      <td>74.870912</td>\n",
       "    </tr>\n",
       "    <tr>\n",
       "      <th>9</th>\n",
       "      <td>other</td>\n",
       "      <td>&gt;50k</td>\n",
       "      <td>146</td>\n",
       "      <td>25.129088</td>\n",
       "    </tr>\n",
       "    <tr>\n",
       "      <th>10</th>\n",
       "      <td>south america</td>\n",
       "      <td>&lt;=50k</td>\n",
       "      <td>174</td>\n",
       "      <td>87.878788</td>\n",
       "    </tr>\n",
       "    <tr>\n",
       "      <th>11</th>\n",
       "      <td>south america</td>\n",
       "      <td>&gt;50k</td>\n",
       "      <td>24</td>\n",
       "      <td>12.121212</td>\n",
       "    </tr>\n",
       "  </tbody>\n",
       "</table>\n",
       "</div>"
      ],
      "text/plain": [
       "      native_region income  total_by_region  percentage\n",
       "0              asia  <=50k              465   69.299553\n",
       "1              asia   >50k              206   30.700447\n",
       "2   central america  <=50k              466   88.931298\n",
       "3   central america   >50k               58   11.068702\n",
       "4            europe  <=50k              369   70.825336\n",
       "5            europe   >50k              152   29.174664\n",
       "6     north america  <=50k            22768   75.847825\n",
       "7     north america   >50k             7250   24.152175\n",
       "8             other  <=50k              435   74.870912\n",
       "9             other   >50k              146   25.129088\n",
       "10    south america  <=50k              174   87.878788\n",
       "11    south america   >50k               24   12.121212"
      ]
     },
     "execution_count": 23,
     "metadata": {},
     "output_type": "execute_result"
    }
   ],
   "source": [
    "total_per_native_region = adult_df_income_reg.groupby('native_region')['total_by_region'].transform('sum')\n",
    "adult_df_income_reg['percentage'] = (adult_df_income_reg['total_by_region']/total_per_native_region) *100\n",
    "adult_df_income_reg"
   ]
  },
  {
   "cell_type": "code",
   "execution_count": 24,
   "id": "52b02c87-42f9-475c-b2e6-c7362548236f",
   "metadata": {},
   "outputs": [
    {
     "data": {
      "application/vnd.plotly.v1+json": {
       "config": {
        "plotlyServerURL": "https://plot.ly"
       },
       "data": [
        {
         "alignmentgroup": "True",
         "hovertemplate": "income=<=50k<br>native_region=%{x}<br>percentage=%{text}<extra></extra>",
         "legendgroup": "<=50k",
         "marker": {
          "color": "rgb(103,0,31)",
          "pattern": {
           "shape": ""
          }
         },
         "name": "<=50k",
         "offsetgroup": "<=50k",
         "orientation": "v",
         "showlegend": true,
         "text": {
          "_inputArray": {
           "0": 69.29955290611028,
           "1": 88.93129770992367,
           "2": 70.8253358925144,
           "3": 75.8478246385502,
           "4": 74.87091222030982,
           "5": 87.87878787878788,
           "bdata": "lsrz3ytTUUCPvbVhmjtWQB6kok3StFFAO9RFwkL2UkC3+psGvbdSQPjggw8++FVA",
           "dtype": "f8",
           "shape": "6"
          },
          "bdata": "lsrz3ytTUUCPvbVhmjtWQB6kok3StFFAO9RFwkL2UkC3+psGvbdSQPjggw8++FVA",
          "dtype": "f8"
         },
         "textposition": "outside",
         "texttemplate": "%{text:.2f}%",
         "type": "bar",
         "x": [
          "asia",
          "central america",
          "europe",
          "north america",
          "other",
          "south america"
         ],
         "xaxis": "x",
         "y": {
          "_inputArray": {
           "0": 69.29955290611028,
           "1": 88.93129770992367,
           "2": 70.8253358925144,
           "3": 75.8478246385502,
           "4": 74.87091222030982,
           "5": 87.87878787878788,
           "bdata": "lsrz3ytTUUCPvbVhmjtWQB6kok3StFFAO9RFwkL2UkC3+psGvbdSQPjggw8++FVA",
           "dtype": "f8",
           "shape": "6"
          },
          "bdata": "lsrz3ytTUUCPvbVhmjtWQB6kok3StFFAO9RFwkL2UkC3+psGvbdSQPjggw8++FVA",
          "dtype": "f8"
         },
         "yaxis": "y"
        },
        {
         "alignmentgroup": "True",
         "hovertemplate": "income=>50k<br>native_region=%{x}<br>percentage=%{text}<extra></extra>",
         "legendgroup": ">50k",
         "marker": {
          "color": "rgb(178,24,43)",
          "pattern": {
           "shape": ""
          }
         },
         "name": ">50k",
         "offsetgroup": ">50k",
         "orientation": "v",
         "showlegend": true,
         "text": {
          "_inputArray": {
           "0": 30.700447093889714,
           "1": 11.068702290076336,
           "2": 29.174664107485604,
           "3": 24.152175361449796,
           "4": 25.12908777969019,
           "5": 12.121212121212121,
           "bdata": "ptUwgFCzPkCLE1LyLCMmQIpvdcm2LD1AEa/o9vQmOEAnFZDlCyE5QD744IMPPihA",
           "dtype": "f8",
           "shape": "6"
          },
          "bdata": "ptUwgFCzPkCLE1LyLCMmQIpvdcm2LD1AEa/o9vQmOEAnFZDlCyE5QD744IMPPihA",
          "dtype": "f8"
         },
         "textposition": "outside",
         "texttemplate": "%{text:.2f}%",
         "type": "bar",
         "x": [
          "asia",
          "central america",
          "europe",
          "north america",
          "other",
          "south america"
         ],
         "xaxis": "x",
         "y": {
          "_inputArray": {
           "0": 30.700447093889714,
           "1": 11.068702290076336,
           "2": 29.174664107485604,
           "3": 24.152175361449796,
           "4": 25.12908777969019,
           "5": 12.121212121212121,
           "bdata": "ptUwgFCzPkCLE1LyLCMmQIpvdcm2LD1AEa/o9vQmOEAnFZDlCyE5QD744IMPPihA",
           "dtype": "f8",
           "shape": "6"
          },
          "bdata": "ptUwgFCzPkCLE1LyLCMmQIpvdcm2LD1AEa/o9vQmOEAnFZDlCyE5QD744IMPPihA",
          "dtype": "f8"
         },
         "yaxis": "y"
        }
       ],
       "layout": {
        "barmode": "group",
        "height": 600,
        "legend": {
         "title": {
          "text": "Income Level"
         },
         "tracegroupgap": 0
        },
        "paper_bgcolor": "rgba(0, 0, 0, 0)",
        "plot_bgcolor": "rgba(0, 0, 0, 0)",
        "template": {
         "data": {
          "pie": [
           {
            "automargin": true,
            "type": "pie"
           }
          ],
          "scatter": [
           {
            "line": {
             "width": 3
            },
            "marker": {
             "size": 9
            },
            "type": "scatter"
           }
          ],
          "scatter3d": [
           {
            "line": {
             "width": 3
            },
            "marker": {
             "size": 9
            },
            "type": "scatter3d"
           }
          ],
          "scattergeo": [
           {
            "line": {
             "width": 3
            },
            "marker": {
             "size": 9
            },
            "type": "scattergeo"
           }
          ],
          "scattergl": [
           {
            "line": {
             "width": 3
            },
            "marker": {
             "size": 9
            },
            "type": "scattergl"
           }
          ],
          "scatterpolar": [
           {
            "line": {
             "width": 3
            },
            "marker": {
             "size": 9
            },
            "type": "scatterpolar"
           }
          ],
          "scatterpolargl": [
           {
            "line": {
             "width": 3
            },
            "marker": {
             "size": 9
            },
            "type": "scatterpolargl"
           }
          ],
          "scatterternary": [
           {
            "line": {
             "width": 3
            },
            "marker": {
             "size": 9
            },
            "type": "scatterternary"
           }
          ],
          "table": [
           {
            "cells": {
             "height": 30
            },
            "header": {
             "height": 36
            },
            "type": "table"
           }
          ]
         },
         "layout": {
          "font": {
           "size": 18
          },
          "xaxis": {
           "title": {
            "standoff": 15
           }
          },
          "yaxis": {
           "title": {
            "standoff": 15
           }
          }
         }
        },
        "title": {
         "text": "Income Distribution by Native Region (%)"
        },
        "width": 1000,
        "xaxis": {
         "anchor": "y",
         "autorange": true,
         "domain": [
          0,
          1
         ],
         "range": [
          -0.5,
          5.5
         ],
         "title": {
          "standoff": 50,
          "text": "Native Region"
         },
         "type": "category"
        },
        "yaxis": {
         "anchor": "x",
         "autorange": true,
         "domain": [
          0,
          1
         ],
         "range": [
          0,
          93.61189232623545
         ],
         "title": {
          "text": "Percentage of population"
         },
         "type": "linear"
        }
       }
      }
     },
     "metadata": {},
     "output_type": "display_data"
    }
   ],
   "source": [
    "fig = px.bar(\n",
    "    adult_df_income_reg,\n",
    "    x = 'native_region',\n",
    "    y = 'percentage',\n",
    "    color = 'income',\n",
    "    title = 'Income Distribution by Native Region (%)',\n",
    "    barmode = 'group', \n",
    "    height = 600,\n",
    "    width=1000,\n",
    "    color_discrete_sequence=px.colors.sequential.RdBu,\n",
    "    text= 'percentage'\n",
    ")\n",
    "fig.update_traces(texttemplate='%{text:.2f}%', textposition='outside')\n",
    "fig.update_layout(template=\"presentation\", xaxis_title='Native Region', yaxis_title='Percentage of population', legend_title=dict(text='Income Level'),\n",
    "                  xaxis_title_standoff=50, paper_bgcolor = \"rgba(0, 0, 0, 0)\", plot_bgcolor = \"rgba(0, 0, 0, 0)\")\n",
    "fig.show()\n",
    "fig.write_image(os.path.join(results_dir, 'income_distribution_by_nativeregion_bar_plot.jpg'))\n",
    "fig.write_image(os.path.join(results_dir, 'income_distribution_by_nativeregion_bar_plot.png'))\n",
    "fig.write_html(os.path.join(results_dir, 'income_distribution_by_nativeregion_bar_plot.html'))"
   ]
  },
  {
   "cell_type": "markdown",
   "id": "265062b5-f84a-403d-852f-0c35ecb110a6",
   "metadata": {},
   "source": [
    "Asia (30.7%) and Europe (29.2%) have the highest proportions of high-income earners. This suggests these immigrant groups might be better integrated into high-paying professional roles, or may represent a more skilled migrant profile in the dataset. Central America (11.1%) and South America (12.1%) have the lowest proportions of >50K earners. With 24.2% of North Americans earning >50K, this serves as a middle-ground baseline. Interestingly, both Asian and European groups outperform the native-born population proportionally in high-income brackets. The 'Other' group sits around 25.1%, close to North America’s rate. This likely reflects a diverse mix of regions not explicitly listed."
   ]
  },
  {
   "cell_type": "markdown",
   "id": "c2ca45cc-a1f4-42f4-a8cd-dd906cef11ba",
   "metadata": {},
   "source": [
    "## Income by Race"
   ]
  },
  {
   "cell_type": "code",
   "execution_count": 25,
   "id": "91e2dd95-67ba-4829-9a48-b1036491af9a",
   "metadata": {},
   "outputs": [
    {
     "data": {
      "text/html": [
       "<div>\n",
       "<style scoped>\n",
       "    .dataframe tbody tr th:only-of-type {\n",
       "        vertical-align: middle;\n",
       "    }\n",
       "\n",
       "    .dataframe tbody tr th {\n",
       "        vertical-align: top;\n",
       "    }\n",
       "\n",
       "    .dataframe thead th {\n",
       "        text-align: right;\n",
       "    }\n",
       "</style>\n",
       "<table border=\"1\" class=\"dataframe\">\n",
       "  <thead>\n",
       "    <tr style=\"text-align: right;\">\n",
       "      <th></th>\n",
       "      <th>race</th>\n",
       "      <th>income</th>\n",
       "      <th>total_by_race</th>\n",
       "    </tr>\n",
       "  </thead>\n",
       "  <tbody>\n",
       "    <tr>\n",
       "      <th>0</th>\n",
       "      <td>american indian or eskimo</td>\n",
       "      <td>&lt;=50k</td>\n",
       "      <td>275</td>\n",
       "    </tr>\n",
       "    <tr>\n",
       "      <th>1</th>\n",
       "      <td>american indian or eskimo</td>\n",
       "      <td>&gt;50k</td>\n",
       "      <td>36</td>\n",
       "    </tr>\n",
       "    <tr>\n",
       "      <th>2</th>\n",
       "      <td>asian or pacific islander</td>\n",
       "      <td>&lt;=50k</td>\n",
       "      <td>762</td>\n",
       "    </tr>\n",
       "    <tr>\n",
       "      <th>3</th>\n",
       "      <td>asian or pacific islander</td>\n",
       "      <td>&gt;50k</td>\n",
       "      <td>276</td>\n",
       "    </tr>\n",
       "    <tr>\n",
       "      <th>4</th>\n",
       "      <td>black</td>\n",
       "      <td>&lt;=50k</td>\n",
       "      <td>2735</td>\n",
       "    </tr>\n",
       "    <tr>\n",
       "      <th>5</th>\n",
       "      <td>black</td>\n",
       "      <td>&gt;50k</td>\n",
       "      <td>387</td>\n",
       "    </tr>\n",
       "    <tr>\n",
       "      <th>6</th>\n",
       "      <td>other</td>\n",
       "      <td>&lt;=50k</td>\n",
       "      <td>246</td>\n",
       "    </tr>\n",
       "    <tr>\n",
       "      <th>7</th>\n",
       "      <td>other</td>\n",
       "      <td>&gt;50k</td>\n",
       "      <td>25</td>\n",
       "    </tr>\n",
       "    <tr>\n",
       "      <th>8</th>\n",
       "      <td>white</td>\n",
       "      <td>&lt;=50k</td>\n",
       "      <td>20659</td>\n",
       "    </tr>\n",
       "    <tr>\n",
       "      <th>9</th>\n",
       "      <td>white</td>\n",
       "      <td>&gt;50k</td>\n",
       "      <td>7112</td>\n",
       "    </tr>\n",
       "  </tbody>\n",
       "</table>\n",
       "</div>"
      ],
      "text/plain": [
       "                        race income  total_by_race\n",
       "0  american indian or eskimo  <=50k            275\n",
       "1  american indian or eskimo   >50k             36\n",
       "2  asian or pacific islander  <=50k            762\n",
       "3  asian or pacific islander   >50k            276\n",
       "4                      black  <=50k           2735\n",
       "5                      black   >50k            387\n",
       "6                      other  <=50k            246\n",
       "7                      other   >50k             25\n",
       "8                      white  <=50k          20659\n",
       "9                      white   >50k           7112"
      ]
     },
     "execution_count": 25,
     "metadata": {},
     "output_type": "execute_result"
    }
   ],
   "source": [
    "adult_df_income_race = adult_df.groupby(['race', 'income']).size().reset_index(name='total_by_race').sort_values(['race', 'income'])\n",
    "adult_df_income_race"
   ]
  },
  {
   "cell_type": "code",
   "execution_count": 26,
   "id": "621dfcc3-5586-4f25-b3ab-a028e299d5c9",
   "metadata": {},
   "outputs": [
    {
     "data": {
      "text/html": [
       "<div>\n",
       "<style scoped>\n",
       "    .dataframe tbody tr th:only-of-type {\n",
       "        vertical-align: middle;\n",
       "    }\n",
       "\n",
       "    .dataframe tbody tr th {\n",
       "        vertical-align: top;\n",
       "    }\n",
       "\n",
       "    .dataframe thead th {\n",
       "        text-align: right;\n",
       "    }\n",
       "</style>\n",
       "<table border=\"1\" class=\"dataframe\">\n",
       "  <thead>\n",
       "    <tr style=\"text-align: right;\">\n",
       "      <th></th>\n",
       "      <th>race</th>\n",
       "      <th>income</th>\n",
       "      <th>total_by_race</th>\n",
       "      <th>percentage</th>\n",
       "    </tr>\n",
       "  </thead>\n",
       "  <tbody>\n",
       "    <tr>\n",
       "      <th>0</th>\n",
       "      <td>american indian or eskimo</td>\n",
       "      <td>&lt;=50k</td>\n",
       "      <td>275</td>\n",
       "      <td>88.424437</td>\n",
       "    </tr>\n",
       "    <tr>\n",
       "      <th>1</th>\n",
       "      <td>american indian or eskimo</td>\n",
       "      <td>&gt;50k</td>\n",
       "      <td>36</td>\n",
       "      <td>11.575563</td>\n",
       "    </tr>\n",
       "    <tr>\n",
       "      <th>2</th>\n",
       "      <td>asian or pacific islander</td>\n",
       "      <td>&lt;=50k</td>\n",
       "      <td>762</td>\n",
       "      <td>73.410405</td>\n",
       "    </tr>\n",
       "    <tr>\n",
       "      <th>3</th>\n",
       "      <td>asian or pacific islander</td>\n",
       "      <td>&gt;50k</td>\n",
       "      <td>276</td>\n",
       "      <td>26.589595</td>\n",
       "    </tr>\n",
       "    <tr>\n",
       "      <th>4</th>\n",
       "      <td>black</td>\n",
       "      <td>&lt;=50k</td>\n",
       "      <td>2735</td>\n",
       "      <td>87.604100</td>\n",
       "    </tr>\n",
       "    <tr>\n",
       "      <th>5</th>\n",
       "      <td>black</td>\n",
       "      <td>&gt;50k</td>\n",
       "      <td>387</td>\n",
       "      <td>12.395900</td>\n",
       "    </tr>\n",
       "    <tr>\n",
       "      <th>6</th>\n",
       "      <td>other</td>\n",
       "      <td>&lt;=50k</td>\n",
       "      <td>246</td>\n",
       "      <td>90.774908</td>\n",
       "    </tr>\n",
       "    <tr>\n",
       "      <th>7</th>\n",
       "      <td>other</td>\n",
       "      <td>&gt;50k</td>\n",
       "      <td>25</td>\n",
       "      <td>9.225092</td>\n",
       "    </tr>\n",
       "    <tr>\n",
       "      <th>8</th>\n",
       "      <td>white</td>\n",
       "      <td>&lt;=50k</td>\n",
       "      <td>20659</td>\n",
       "      <td>74.390551</td>\n",
       "    </tr>\n",
       "    <tr>\n",
       "      <th>9</th>\n",
       "      <td>white</td>\n",
       "      <td>&gt;50k</td>\n",
       "      <td>7112</td>\n",
       "      <td>25.609449</td>\n",
       "    </tr>\n",
       "  </tbody>\n",
       "</table>\n",
       "</div>"
      ],
      "text/plain": [
       "                        race income  total_by_race  percentage\n",
       "0  american indian or eskimo  <=50k            275   88.424437\n",
       "1  american indian or eskimo   >50k             36   11.575563\n",
       "2  asian or pacific islander  <=50k            762   73.410405\n",
       "3  asian or pacific islander   >50k            276   26.589595\n",
       "4                      black  <=50k           2735   87.604100\n",
       "5                      black   >50k            387   12.395900\n",
       "6                      other  <=50k            246   90.774908\n",
       "7                      other   >50k             25    9.225092\n",
       "8                      white  <=50k          20659   74.390551\n",
       "9                      white   >50k           7112   25.609449"
      ]
     },
     "execution_count": 26,
     "metadata": {},
     "output_type": "execute_result"
    }
   ],
   "source": [
    "total_per_race = adult_df_income_race.groupby('race')['total_by_race'].transform('sum')\n",
    "adult_df_income_race['percentage'] = (adult_df_income_race['total_by_race']/total_per_race) *100\n",
    "adult_df_income_race"
   ]
  },
  {
   "cell_type": "code",
   "execution_count": 27,
   "id": "905a295a-a890-4a64-ba2b-5ebb05c79f2a",
   "metadata": {},
   "outputs": [
    {
     "data": {
      "application/vnd.plotly.v1+json": {
       "config": {
        "plotlyServerURL": "https://plot.ly"
       },
       "data": [
        {
         "alignmentgroup": "True",
         "hovertemplate": "income=<=50k<br>race=%{x}<br>percentage=%{text}<extra></extra>",
         "legendgroup": "<=50k",
         "marker": {
          "color": "rgb(103,0,31)",
          "pattern": {
           "shape": ""
          }
         },
         "name": "<=50k",
         "offsetgroup": "<=50k",
         "orientation": "v",
         "showlegend": true,
         "text": {
          "_inputArray": {
           "0": 88.42443729903538,
           "1": 73.41040462427746,
           "2": 87.6040999359385,
           "3": 90.7749077490775,
           "4": 74.39055129451586,
           "bdata": "z6MP+ykbVkCH2cERRFpSQMgXx5Kp5lVAHO2rFpixVkDKVtvK/phSQA==",
           "dtype": "f8",
           "shape": "5"
          },
          "bdata": "z6MP+ykbVkCH2cERRFpSQMgXx5Kp5lVAHO2rFpixVkDKVtvK/phSQA==",
          "dtype": "f8"
         },
         "textposition": "outside",
         "texttemplate": "%{text:.2f}%",
         "type": "bar",
         "x": [
          "american indian or eskimo",
          "asian or pacific islander",
          "black",
          "other",
          "white"
         ],
         "xaxis": "x",
         "y": {
          "_inputArray": {
           "0": 88.42443729903538,
           "1": 73.41040462427746,
           "2": 87.6040999359385,
           "3": 90.7749077490775,
           "4": 74.39055129451586,
           "bdata": "z6MP+ykbVkCH2cERRFpSQMgXx5Kp5lVAHO2rFpixVkDKVtvK/phSQA==",
           "dtype": "f8",
           "shape": "5"
          },
          "bdata": "z6MP+ykbVkCH2cERRFpSQMgXx5Kp5lVAHO2rFpixVkDKVtvK/phSQA==",
          "dtype": "f8"
         },
         "yaxis": "y"
        },
        {
         "alignmentgroup": "True",
         "hovertemplate": "income=>50k<br>race=%{x}<br>percentage=%{text}<extra></extra>",
         "legendgroup": ">50k",
         "marker": {
          "color": "rgb(178,24,43)",
          "pattern": {
           "shape": ""
          }
         },
         "name": ">50k",
         "offsetgroup": ">50k",
         "orientation": "v",
         "showlegend": true,
         "text": {
          "_inputArray": {
           "0": 11.57556270096463,
           "1": 26.589595375722542,
           "2": 12.395900064061498,
           "3": 9.22509225092251,
           "4": 25.60944870548414,
           "bdata": "i+GCJ7AmJ0Dlmfi475Y6QMNBx2mzyihAJZegSj9zIkDYpJLUBJw5QA==",
           "dtype": "f8",
           "shape": "5"
          },
          "bdata": "i+GCJ7AmJ0Dlmfi475Y6QMNBx2mzyihAJZegSj9zIkDYpJLUBJw5QA==",
          "dtype": "f8"
         },
         "textposition": "outside",
         "texttemplate": "%{text:.2f}%",
         "type": "bar",
         "x": [
          "american indian or eskimo",
          "asian or pacific islander",
          "black",
          "other",
          "white"
         ],
         "xaxis": "x",
         "y": {
          "_inputArray": {
           "0": 11.57556270096463,
           "1": 26.589595375722542,
           "2": 12.395900064061498,
           "3": 9.22509225092251,
           "4": 25.60944870548414,
           "bdata": "i+GCJ7AmJ0Dlmfi475Y6QMNBx2mzyihAJZegSj9zIkDYpJLUBJw5QA==",
           "dtype": "f8",
           "shape": "5"
          },
          "bdata": "i+GCJ7AmJ0Dlmfi475Y6QMNBx2mzyihAJZegSj9zIkDYpJLUBJw5QA==",
          "dtype": "f8"
         },
         "yaxis": "y"
        }
       ],
       "layout": {
        "barmode": "group",
        "height": 700,
        "legend": {
         "title": {
          "text": "Income Level"
         },
         "tracegroupgap": 0
        },
        "margin": {
         "b": 150,
         "l": 60,
         "r": 50,
         "t": 50
        },
        "paper_bgcolor": "rgba(0, 0, 0, 0)",
        "plot_bgcolor": "rgba(0, 0, 0, 0)",
        "template": {
         "data": {
          "pie": [
           {
            "automargin": true,
            "type": "pie"
           }
          ],
          "scatter": [
           {
            "line": {
             "width": 3
            },
            "marker": {
             "size": 9
            },
            "type": "scatter"
           }
          ],
          "scatter3d": [
           {
            "line": {
             "width": 3
            },
            "marker": {
             "size": 9
            },
            "type": "scatter3d"
           }
          ],
          "scattergeo": [
           {
            "line": {
             "width": 3
            },
            "marker": {
             "size": 9
            },
            "type": "scattergeo"
           }
          ],
          "scattergl": [
           {
            "line": {
             "width": 3
            },
            "marker": {
             "size": 9
            },
            "type": "scattergl"
           }
          ],
          "scatterpolar": [
           {
            "line": {
             "width": 3
            },
            "marker": {
             "size": 9
            },
            "type": "scatterpolar"
           }
          ],
          "scatterpolargl": [
           {
            "line": {
             "width": 3
            },
            "marker": {
             "size": 9
            },
            "type": "scatterpolargl"
           }
          ],
          "scatterternary": [
           {
            "line": {
             "width": 3
            },
            "marker": {
             "size": 9
            },
            "type": "scatterternary"
           }
          ],
          "table": [
           {
            "cells": {
             "height": 30
            },
            "header": {
             "height": 36
            },
            "type": "table"
           }
          ]
         },
         "layout": {
          "font": {
           "size": 18
          },
          "xaxis": {
           "title": {
            "standoff": 15
           }
          },
          "yaxis": {
           "title": {
            "standoff": 15
           }
          }
         }
        },
        "title": {
         "text": "Income Distribution by Race (%)"
        },
        "width": 1000,
        "xaxis": {
         "anchor": "y",
         "autorange": true,
         "domain": [
          0,
          1
         ],
         "range": [
          -0.5,
          4.5
         ],
         "title": {
          "standoff": 30,
          "text": "Race"
         },
         "type": "category"
        },
        "yaxis": {
         "anchor": "x",
         "autorange": true,
         "domain": [
          0,
          1
         ],
         "range": [
          0,
          95.55253447271316
         ],
         "title": {
          "text": "Percentage of population"
         },
         "type": "linear"
        }
       }
      }
     },
     "metadata": {},
     "output_type": "display_data"
    }
   ],
   "source": [
    "fig = px.bar(\n",
    "    adult_df_income_race,\n",
    "    x = 'race',\n",
    "    y = 'percentage',\n",
    "    color = 'income',\n",
    "    title = 'Income Distribution by Race (%)',\n",
    "    barmode = 'group', \n",
    "    height = 700,\n",
    "    width=1000,\n",
    "    color_discrete_sequence=px.colors.sequential.RdBu,\n",
    "    text= 'percentage'\n",
    ")\n",
    "fig.update_traces(texttemplate='%{text:.2f}%', textposition='outside')\n",
    "fig.update_layout(template=\"presentation\", xaxis_title='Race', yaxis_title='Percentage of population', legend_title=dict(text='Income Level'),\n",
    "                  xaxis_title_standoff=30, margin=dict(l=60, r=50, t=50, b=150), paper_bgcolor = \"rgba(0, 0, 0, 0)\", plot_bgcolor = \"rgba(0, 0, 0, 0)\")\n",
    "fig.show()\n",
    "fig.write_image(os.path.join(results_dir, 'income_distribution_by_race_bar_plot.jpg'))\n",
    "fig.write_image(os.path.join(results_dir, 'income_distribution_by_race_bar_plot.png'))\n",
    "fig.write_html(os.path.join(results_dir, 'income_distribution_by_race_bar_plot.html'))"
   ]
  },
  {
   "cell_type": "markdown",
   "id": "255f85c4-45f0-415f-b30d-070f0db0ba05",
   "metadata": {},
   "source": [
    "Asian or Pacific Islander (26.6%) and White (25.6%) populations have the highest proportions of >50K earners. Asians/Pacific Islanders marginally outperform Whites, a pattern often attributed to occupational concentration in high-paying sectors like technology and medicine. On the other hand, American Indian or Eskimo (11.6%), Black (12.4%), and Other (9.2%) groups show significantly lower rates of high-income earners. These figures reflect long-standing economic disparities rooted in historical exclusion, occupational segregation, and systemic inequality.\n",
    "\n",
    "The stark differences in high-income proportions:\n",
    "\n",
    "- **Between Whites and Blacks**: 25.6% vs 12.4% — slightly over double the proportion.\n",
    "- **Between Asians and Others**: 26.6% vs 9.2% — nearly triple.\n",
    "\n",
    "These disparities are consistent with well-documented wage gaps and underrepresentation of marginalized groups in higher-paying roles."
   ]
  },
  {
   "cell_type": "markdown",
   "id": "0cedd387-d1be-4c1e-b577-587b44cd80d4",
   "metadata": {},
   "source": [
    "## Income by Education Level and Occupation Group"
   ]
  },
  {
   "cell_type": "code",
   "execution_count": 28,
   "id": "d67287b8-ca7a-4116-9527-bb3153cc487d",
   "metadata": {},
   "outputs": [
    {
     "data": {
      "text/html": [
       "<div>\n",
       "<style scoped>\n",
       "    .dataframe tbody tr th:only-of-type {\n",
       "        vertical-align: middle;\n",
       "    }\n",
       "\n",
       "    .dataframe tbody tr th {\n",
       "        vertical-align: top;\n",
       "    }\n",
       "\n",
       "    .dataframe thead th {\n",
       "        text-align: right;\n",
       "    }\n",
       "</style>\n",
       "<table border=\"1\" class=\"dataframe\">\n",
       "  <thead>\n",
       "    <tr style=\"text-align: right;\">\n",
       "      <th></th>\n",
       "      <th>education_level</th>\n",
       "      <th>occupation_grouped</th>\n",
       "      <th>income</th>\n",
       "      <th>total</th>\n",
       "    </tr>\n",
       "  </thead>\n",
       "  <tbody>\n",
       "    <tr>\n",
       "      <th>29</th>\n",
       "      <td>secondary-school graduate</td>\n",
       "      <td>blue collar</td>\n",
       "      <td>&lt;=50k</td>\n",
       "      <td>3976</td>\n",
       "    </tr>\n",
       "    <tr>\n",
       "      <th>56</th>\n",
       "      <td>tertiary</td>\n",
       "      <td>white collar</td>\n",
       "      <td>&gt;50k</td>\n",
       "      <td>3545</td>\n",
       "    </tr>\n",
       "    <tr>\n",
       "      <th>55</th>\n",
       "      <td>tertiary</td>\n",
       "      <td>white collar</td>\n",
       "      <td>&lt;=50k</td>\n",
       "      <td>3369</td>\n",
       "    </tr>\n",
       "    <tr>\n",
       "      <th>45</th>\n",
       "      <td>some college</td>\n",
       "      <td>white collar</td>\n",
       "      <td>&lt;=50k</td>\n",
       "      <td>3003</td>\n",
       "    </tr>\n",
       "    <tr>\n",
       "      <th>36</th>\n",
       "      <td>secondary-school graduate</td>\n",
       "      <td>white collar</td>\n",
       "      <td>&lt;=50k</td>\n",
       "      <td>2900</td>\n",
       "    </tr>\n",
       "    <tr>\n",
       "      <th>38</th>\n",
       "      <td>some college</td>\n",
       "      <td>blue collar</td>\n",
       "      <td>&lt;=50k</td>\n",
       "      <td>1503</td>\n",
       "    </tr>\n",
       "    <tr>\n",
       "      <th>32</th>\n",
       "      <td>secondary-school graduate</td>\n",
       "      <td>service</td>\n",
       "      <td>&lt;=50k</td>\n",
       "      <td>1444</td>\n",
       "    </tr>\n",
       "    <tr>\n",
       "      <th>20</th>\n",
       "      <td>secondary</td>\n",
       "      <td>blue collar</td>\n",
       "      <td>&lt;=50k</td>\n",
       "      <td>1349</td>\n",
       "    </tr>\n",
       "    <tr>\n",
       "      <th>6</th>\n",
       "      <td>associate</td>\n",
       "      <td>white collar</td>\n",
       "      <td>&lt;=50k</td>\n",
       "      <td>1015</td>\n",
       "    </tr>\n",
       "    <tr>\n",
       "      <th>41</th>\n",
       "      <td>some college</td>\n",
       "      <td>service</td>\n",
       "      <td>&lt;=50k</td>\n",
       "      <td>902</td>\n",
       "    </tr>\n",
       "    <tr>\n",
       "      <th>46</th>\n",
       "      <td>some college</td>\n",
       "      <td>white collar</td>\n",
       "      <td>&gt;50k</td>\n",
       "      <td>858</td>\n",
       "    </tr>\n",
       "    <tr>\n",
       "      <th>30</th>\n",
       "      <td>secondary-school graduate</td>\n",
       "      <td>blue collar</td>\n",
       "      <td>&gt;50k</td>\n",
       "      <td>796</td>\n",
       "    </tr>\n",
       "    <tr>\n",
       "      <th>37</th>\n",
       "      <td>secondary-school graduate</td>\n",
       "      <td>white collar</td>\n",
       "      <td>&gt;50k</td>\n",
       "      <td>731</td>\n",
       "    </tr>\n",
       "    <tr>\n",
       "      <th>23</th>\n",
       "      <td>secondary</td>\n",
       "      <td>service</td>\n",
       "      <td>&lt;=50k</td>\n",
       "      <td>663</td>\n",
       "    </tr>\n",
       "    <tr>\n",
       "      <th>12</th>\n",
       "      <td>primary</td>\n",
       "      <td>blue collar</td>\n",
       "      <td>&lt;=50k</td>\n",
       "      <td>634</td>\n",
       "    </tr>\n",
       "    <tr>\n",
       "      <th>27</th>\n",
       "      <td>secondary</td>\n",
       "      <td>white collar</td>\n",
       "      <td>&lt;=50k</td>\n",
       "      <td>552</td>\n",
       "    </tr>\n",
       "    <tr>\n",
       "      <th>34</th>\n",
       "      <td>secondary-school graduate</td>\n",
       "      <td>unknown</td>\n",
       "      <td>&lt;=50k</td>\n",
       "      <td>487</td>\n",
       "    </tr>\n",
       "    <tr>\n",
       "      <th>0</th>\n",
       "      <td>associate</td>\n",
       "      <td>blue collar</td>\n",
       "      <td>&lt;=50k</td>\n",
       "      <td>482</td>\n",
       "    </tr>\n",
       "    <tr>\n",
       "      <th>43</th>\n",
       "      <td>some college</td>\n",
       "      <td>unknown</td>\n",
       "      <td>&lt;=50k</td>\n",
       "      <td>481</td>\n",
       "    </tr>\n",
       "    <tr>\n",
       "      <th>39</th>\n",
       "      <td>some college</td>\n",
       "      <td>blue collar</td>\n",
       "      <td>&gt;50k</td>\n",
       "      <td>397</td>\n",
       "    </tr>\n",
       "    <tr>\n",
       "      <th>7</th>\n",
       "      <td>associate</td>\n",
       "      <td>white collar</td>\n",
       "      <td>&gt;50k</td>\n",
       "      <td>397</td>\n",
       "    </tr>\n",
       "    <tr>\n",
       "      <th>47</th>\n",
       "      <td>tertiary</td>\n",
       "      <td>blue collar</td>\n",
       "      <td>&lt;=50k</td>\n",
       "      <td>375</td>\n",
       "    </tr>\n",
       "    <tr>\n",
       "      <th>25</th>\n",
       "      <td>secondary</td>\n",
       "      <td>unknown</td>\n",
       "      <td>&lt;=50k</td>\n",
       "      <td>307</td>\n",
       "    </tr>\n",
       "    <tr>\n",
       "      <th>14</th>\n",
       "      <td>primary</td>\n",
       "      <td>service</td>\n",
       "      <td>&lt;=50k</td>\n",
       "      <td>243</td>\n",
       "    </tr>\n",
       "    <tr>\n",
       "      <th>2</th>\n",
       "      <td>associate</td>\n",
       "      <td>service</td>\n",
       "      <td>&lt;=50k</td>\n",
       "      <td>237</td>\n",
       "    </tr>\n",
       "    <tr>\n",
       "      <th>51</th>\n",
       "      <td>tertiary</td>\n",
       "      <td>service</td>\n",
       "      <td>&lt;=50k</td>\n",
       "      <td>232</td>\n",
       "    </tr>\n",
       "    <tr>\n",
       "      <th>48</th>\n",
       "      <td>tertiary</td>\n",
       "      <td>blue collar</td>\n",
       "      <td>&gt;50k</td>\n",
       "      <td>183</td>\n",
       "    </tr>\n",
       "    <tr>\n",
       "      <th>53</th>\n",
       "      <td>tertiary</td>\n",
       "      <td>unknown</td>\n",
       "      <td>&lt;=50k</td>\n",
       "      <td>172</td>\n",
       "    </tr>\n",
       "    <tr>\n",
       "      <th>1</th>\n",
       "      <td>associate</td>\n",
       "      <td>blue collar</td>\n",
       "      <td>&gt;50k</td>\n",
       "      <td>166</td>\n",
       "    </tr>\n",
       "    <tr>\n",
       "      <th>21</th>\n",
       "      <td>secondary</td>\n",
       "      <td>blue collar</td>\n",
       "      <td>&gt;50k</td>\n",
       "      <td>116</td>\n",
       "    </tr>\n",
       "    <tr>\n",
       "      <th>16</th>\n",
       "      <td>primary</td>\n",
       "      <td>unknown</td>\n",
       "      <td>&lt;=50k</td>\n",
       "      <td>111</td>\n",
       "    </tr>\n",
       "    <tr>\n",
       "      <th>33</th>\n",
       "      <td>secondary-school graduate</td>\n",
       "      <td>service</td>\n",
       "      <td>&gt;50k</td>\n",
       "      <td>100</td>\n",
       "    </tr>\n",
       "    <tr>\n",
       "      <th>52</th>\n",
       "      <td>tertiary</td>\n",
       "      <td>service</td>\n",
       "      <td>&gt;50k</td>\n",
       "      <td>97</td>\n",
       "    </tr>\n",
       "    <tr>\n",
       "      <th>42</th>\n",
       "      <td>some college</td>\n",
       "      <td>service</td>\n",
       "      <td>&gt;50k</td>\n",
       "      <td>95</td>\n",
       "    </tr>\n",
       "    <tr>\n",
       "      <th>18</th>\n",
       "      <td>primary</td>\n",
       "      <td>white collar</td>\n",
       "      <td>&lt;=50k</td>\n",
       "      <td>93</td>\n",
       "    </tr>\n",
       "    <tr>\n",
       "      <th>4</th>\n",
       "      <td>associate</td>\n",
       "      <td>unknown</td>\n",
       "      <td>&lt;=50k</td>\n",
       "      <td>89</td>\n",
       "    </tr>\n",
       "    <tr>\n",
       "      <th>54</th>\n",
       "      <td>tertiary</td>\n",
       "      <td>unknown</td>\n",
       "      <td>&gt;50k</td>\n",
       "      <td>82</td>\n",
       "    </tr>\n",
       "    <tr>\n",
       "      <th>28</th>\n",
       "      <td>secondary</td>\n",
       "      <td>white collar</td>\n",
       "      <td>&gt;50k</td>\n",
       "      <td>49</td>\n",
       "    </tr>\n",
       "    <tr>\n",
       "      <th>35</th>\n",
       "      <td>secondary-school graduate</td>\n",
       "      <td>unknown</td>\n",
       "      <td>&gt;50k</td>\n",
       "      <td>46</td>\n",
       "    </tr>\n",
       "    <tr>\n",
       "      <th>3</th>\n",
       "      <td>associate</td>\n",
       "      <td>service</td>\n",
       "      <td>&gt;50k</td>\n",
       "      <td>44</td>\n",
       "    </tr>\n",
       "    <tr>\n",
       "      <th>13</th>\n",
       "      <td>primary</td>\n",
       "      <td>blue collar</td>\n",
       "      <td>&gt;50k</td>\n",
       "      <td>40</td>\n",
       "    </tr>\n",
       "    <tr>\n",
       "      <th>44</th>\n",
       "      <td>some college</td>\n",
       "      <td>unknown</td>\n",
       "      <td>&gt;50k</td>\n",
       "      <td>35</td>\n",
       "    </tr>\n",
       "    <tr>\n",
       "      <th>8</th>\n",
       "      <td>preschool</td>\n",
       "      <td>blue collar</td>\n",
       "      <td>&lt;=50k</td>\n",
       "      <td>25</td>\n",
       "    </tr>\n",
       "    <tr>\n",
       "      <th>5</th>\n",
       "      <td>associate</td>\n",
       "      <td>unknown</td>\n",
       "      <td>&gt;50k</td>\n",
       "      <td>19</td>\n",
       "    </tr>\n",
       "    <tr>\n",
       "      <th>9</th>\n",
       "      <td>preschool</td>\n",
       "      <td>service</td>\n",
       "      <td>&lt;=50k</td>\n",
       "      <td>17</td>\n",
       "    </tr>\n",
       "    <tr>\n",
       "      <th>19</th>\n",
       "      <td>primary</td>\n",
       "      <td>white collar</td>\n",
       "      <td>&gt;50k</td>\n",
       "      <td>17</td>\n",
       "    </tr>\n",
       "    <tr>\n",
       "      <th>24</th>\n",
       "      <td>secondary</td>\n",
       "      <td>service</td>\n",
       "      <td>&gt;50k</td>\n",
       "      <td>12</td>\n",
       "    </tr>\n",
       "    <tr>\n",
       "      <th>10</th>\n",
       "      <td>preschool</td>\n",
       "      <td>unknown</td>\n",
       "      <td>&lt;=50k</td>\n",
       "      <td>5</td>\n",
       "    </tr>\n",
       "    <tr>\n",
       "      <th>26</th>\n",
       "      <td>secondary</td>\n",
       "      <td>unknown</td>\n",
       "      <td>&gt;50k</td>\n",
       "      <td>5</td>\n",
       "    </tr>\n",
       "    <tr>\n",
       "      <th>17</th>\n",
       "      <td>primary</td>\n",
       "      <td>unknown</td>\n",
       "      <td>&gt;50k</td>\n",
       "      <td>4</td>\n",
       "    </tr>\n",
       "    <tr>\n",
       "      <th>31</th>\n",
       "      <td>secondary-school graduate</td>\n",
       "      <td>military</td>\n",
       "      <td>&lt;=50k</td>\n",
       "      <td>4</td>\n",
       "    </tr>\n",
       "    <tr>\n",
       "      <th>11</th>\n",
       "      <td>preschool</td>\n",
       "      <td>white collar</td>\n",
       "      <td>&lt;=50k</td>\n",
       "      <td>3</td>\n",
       "    </tr>\n",
       "    <tr>\n",
       "      <th>40</th>\n",
       "      <td>some college</td>\n",
       "      <td>military</td>\n",
       "      <td>&lt;=50k</td>\n",
       "      <td>2</td>\n",
       "    </tr>\n",
       "    <tr>\n",
       "      <th>49</th>\n",
       "      <td>tertiary</td>\n",
       "      <td>military</td>\n",
       "      <td>&lt;=50k</td>\n",
       "      <td>1</td>\n",
       "    </tr>\n",
       "    <tr>\n",
       "      <th>50</th>\n",
       "      <td>tertiary</td>\n",
       "      <td>military</td>\n",
       "      <td>&gt;50k</td>\n",
       "      <td>1</td>\n",
       "    </tr>\n",
       "    <tr>\n",
       "      <th>15</th>\n",
       "      <td>primary</td>\n",
       "      <td>service</td>\n",
       "      <td>&gt;50k</td>\n",
       "      <td>1</td>\n",
       "    </tr>\n",
       "    <tr>\n",
       "      <th>22</th>\n",
       "      <td>secondary</td>\n",
       "      <td>military</td>\n",
       "      <td>&lt;=50k</td>\n",
       "      <td>1</td>\n",
       "    </tr>\n",
       "  </tbody>\n",
       "</table>\n",
       "</div>"
      ],
      "text/plain": [
       "              education_level occupation_grouped income  total\n",
       "29  secondary-school graduate        blue collar  <=50k   3976\n",
       "56                   tertiary       white collar   >50k   3545\n",
       "55                   tertiary       white collar  <=50k   3369\n",
       "45               some college       white collar  <=50k   3003\n",
       "36  secondary-school graduate       white collar  <=50k   2900\n",
       "38               some college        blue collar  <=50k   1503\n",
       "32  secondary-school graduate            service  <=50k   1444\n",
       "20                  secondary        blue collar  <=50k   1349\n",
       "6                   associate       white collar  <=50k   1015\n",
       "41               some college            service  <=50k    902\n",
       "46               some college       white collar   >50k    858\n",
       "30  secondary-school graduate        blue collar   >50k    796\n",
       "37  secondary-school graduate       white collar   >50k    731\n",
       "23                  secondary            service  <=50k    663\n",
       "12                    primary        blue collar  <=50k    634\n",
       "27                  secondary       white collar  <=50k    552\n",
       "34  secondary-school graduate            unknown  <=50k    487\n",
       "0                   associate        blue collar  <=50k    482\n",
       "43               some college            unknown  <=50k    481\n",
       "39               some college        blue collar   >50k    397\n",
       "7                   associate       white collar   >50k    397\n",
       "47                   tertiary        blue collar  <=50k    375\n",
       "25                  secondary            unknown  <=50k    307\n",
       "14                    primary            service  <=50k    243\n",
       "2                   associate            service  <=50k    237\n",
       "51                   tertiary            service  <=50k    232\n",
       "48                   tertiary        blue collar   >50k    183\n",
       "53                   tertiary            unknown  <=50k    172\n",
       "1                   associate        blue collar   >50k    166\n",
       "21                  secondary        blue collar   >50k    116\n",
       "16                    primary            unknown  <=50k    111\n",
       "33  secondary-school graduate            service   >50k    100\n",
       "52                   tertiary            service   >50k     97\n",
       "42               some college            service   >50k     95\n",
       "18                    primary       white collar  <=50k     93\n",
       "4                   associate            unknown  <=50k     89\n",
       "54                   tertiary            unknown   >50k     82\n",
       "28                  secondary       white collar   >50k     49\n",
       "35  secondary-school graduate            unknown   >50k     46\n",
       "3                   associate            service   >50k     44\n",
       "13                    primary        blue collar   >50k     40\n",
       "44               some college            unknown   >50k     35\n",
       "8                   preschool        blue collar  <=50k     25\n",
       "5                   associate            unknown   >50k     19\n",
       "9                   preschool            service  <=50k     17\n",
       "19                    primary       white collar   >50k     17\n",
       "24                  secondary            service   >50k     12\n",
       "10                  preschool            unknown  <=50k      5\n",
       "26                  secondary            unknown   >50k      5\n",
       "17                    primary            unknown   >50k      4\n",
       "31  secondary-school graduate           military  <=50k      4\n",
       "11                  preschool       white collar  <=50k      3\n",
       "40               some college           military  <=50k      2\n",
       "49                   tertiary           military  <=50k      1\n",
       "50                   tertiary           military   >50k      1\n",
       "15                    primary            service   >50k      1\n",
       "22                  secondary           military  <=50k      1"
      ]
     },
     "execution_count": 28,
     "metadata": {},
     "output_type": "execute_result"
    }
   ],
   "source": [
    "adult_df_income_edu_occ = (adult_df.groupby(['education_level', 'occupation_grouped', 'income'])\n",
    "                           .size().reset_index(name='total').sort_values('total', ascending = False))\n",
    "adult_df_income_edu_occ"
   ]
  },
  {
   "cell_type": "code",
   "execution_count": 29,
   "id": "f56e5165-4f6b-434f-8d4f-af90f82cf910",
   "metadata": {},
   "outputs": [
    {
     "data": {
      "text/html": [
       "<div>\n",
       "<style scoped>\n",
       "    .dataframe tbody tr th:only-of-type {\n",
       "        vertical-align: middle;\n",
       "    }\n",
       "\n",
       "    .dataframe tbody tr th {\n",
       "        vertical-align: top;\n",
       "    }\n",
       "\n",
       "    .dataframe thead th {\n",
       "        text-align: right;\n",
       "    }\n",
       "</style>\n",
       "<table border=\"1\" class=\"dataframe\">\n",
       "  <thead>\n",
       "    <tr style=\"text-align: right;\">\n",
       "      <th></th>\n",
       "      <th>education_level</th>\n",
       "      <th>occupation_grouped</th>\n",
       "      <th>income</th>\n",
       "      <th>total</th>\n",
       "      <th>edu_occ</th>\n",
       "    </tr>\n",
       "  </thead>\n",
       "  <tbody>\n",
       "    <tr>\n",
       "      <th>29</th>\n",
       "      <td>secondary-school graduate</td>\n",
       "      <td>blue collar</td>\n",
       "      <td>&lt;=50k</td>\n",
       "      <td>3976</td>\n",
       "      <td>secondary-school graduate | blue collar</td>\n",
       "    </tr>\n",
       "    <tr>\n",
       "      <th>56</th>\n",
       "      <td>tertiary</td>\n",
       "      <td>white collar</td>\n",
       "      <td>&gt;50k</td>\n",
       "      <td>3545</td>\n",
       "      <td>tertiary | white collar</td>\n",
       "    </tr>\n",
       "    <tr>\n",
       "      <th>55</th>\n",
       "      <td>tertiary</td>\n",
       "      <td>white collar</td>\n",
       "      <td>&lt;=50k</td>\n",
       "      <td>3369</td>\n",
       "      <td>tertiary | white collar</td>\n",
       "    </tr>\n",
       "    <tr>\n",
       "      <th>45</th>\n",
       "      <td>some college</td>\n",
       "      <td>white collar</td>\n",
       "      <td>&lt;=50k</td>\n",
       "      <td>3003</td>\n",
       "      <td>some college | white collar</td>\n",
       "    </tr>\n",
       "    <tr>\n",
       "      <th>36</th>\n",
       "      <td>secondary-school graduate</td>\n",
       "      <td>white collar</td>\n",
       "      <td>&lt;=50k</td>\n",
       "      <td>2900</td>\n",
       "      <td>secondary-school graduate | white collar</td>\n",
       "    </tr>\n",
       "    <tr>\n",
       "      <th>38</th>\n",
       "      <td>some college</td>\n",
       "      <td>blue collar</td>\n",
       "      <td>&lt;=50k</td>\n",
       "      <td>1503</td>\n",
       "      <td>some college | blue collar</td>\n",
       "    </tr>\n",
       "    <tr>\n",
       "      <th>32</th>\n",
       "      <td>secondary-school graduate</td>\n",
       "      <td>service</td>\n",
       "      <td>&lt;=50k</td>\n",
       "      <td>1444</td>\n",
       "      <td>secondary-school graduate | service</td>\n",
       "    </tr>\n",
       "    <tr>\n",
       "      <th>20</th>\n",
       "      <td>secondary</td>\n",
       "      <td>blue collar</td>\n",
       "      <td>&lt;=50k</td>\n",
       "      <td>1349</td>\n",
       "      <td>secondary | blue collar</td>\n",
       "    </tr>\n",
       "    <tr>\n",
       "      <th>6</th>\n",
       "      <td>associate</td>\n",
       "      <td>white collar</td>\n",
       "      <td>&lt;=50k</td>\n",
       "      <td>1015</td>\n",
       "      <td>associate | white collar</td>\n",
       "    </tr>\n",
       "    <tr>\n",
       "      <th>41</th>\n",
       "      <td>some college</td>\n",
       "      <td>service</td>\n",
       "      <td>&lt;=50k</td>\n",
       "      <td>902</td>\n",
       "      <td>some college | service</td>\n",
       "    </tr>\n",
       "    <tr>\n",
       "      <th>46</th>\n",
       "      <td>some college</td>\n",
       "      <td>white collar</td>\n",
       "      <td>&gt;50k</td>\n",
       "      <td>858</td>\n",
       "      <td>some college | white collar</td>\n",
       "    </tr>\n",
       "    <tr>\n",
       "      <th>30</th>\n",
       "      <td>secondary-school graduate</td>\n",
       "      <td>blue collar</td>\n",
       "      <td>&gt;50k</td>\n",
       "      <td>796</td>\n",
       "      <td>secondary-school graduate | blue collar</td>\n",
       "    </tr>\n",
       "    <tr>\n",
       "      <th>37</th>\n",
       "      <td>secondary-school graduate</td>\n",
       "      <td>white collar</td>\n",
       "      <td>&gt;50k</td>\n",
       "      <td>731</td>\n",
       "      <td>secondary-school graduate | white collar</td>\n",
       "    </tr>\n",
       "    <tr>\n",
       "      <th>23</th>\n",
       "      <td>secondary</td>\n",
       "      <td>service</td>\n",
       "      <td>&lt;=50k</td>\n",
       "      <td>663</td>\n",
       "      <td>secondary | service</td>\n",
       "    </tr>\n",
       "    <tr>\n",
       "      <th>12</th>\n",
       "      <td>primary</td>\n",
       "      <td>blue collar</td>\n",
       "      <td>&lt;=50k</td>\n",
       "      <td>634</td>\n",
       "      <td>primary | blue collar</td>\n",
       "    </tr>\n",
       "    <tr>\n",
       "      <th>27</th>\n",
       "      <td>secondary</td>\n",
       "      <td>white collar</td>\n",
       "      <td>&lt;=50k</td>\n",
       "      <td>552</td>\n",
       "      <td>secondary | white collar</td>\n",
       "    </tr>\n",
       "    <tr>\n",
       "      <th>34</th>\n",
       "      <td>secondary-school graduate</td>\n",
       "      <td>unknown</td>\n",
       "      <td>&lt;=50k</td>\n",
       "      <td>487</td>\n",
       "      <td>secondary-school graduate | unknown</td>\n",
       "    </tr>\n",
       "    <tr>\n",
       "      <th>0</th>\n",
       "      <td>associate</td>\n",
       "      <td>blue collar</td>\n",
       "      <td>&lt;=50k</td>\n",
       "      <td>482</td>\n",
       "      <td>associate | blue collar</td>\n",
       "    </tr>\n",
       "    <tr>\n",
       "      <th>43</th>\n",
       "      <td>some college</td>\n",
       "      <td>unknown</td>\n",
       "      <td>&lt;=50k</td>\n",
       "      <td>481</td>\n",
       "      <td>some college | unknown</td>\n",
       "    </tr>\n",
       "    <tr>\n",
       "      <th>39</th>\n",
       "      <td>some college</td>\n",
       "      <td>blue collar</td>\n",
       "      <td>&gt;50k</td>\n",
       "      <td>397</td>\n",
       "      <td>some college | blue collar</td>\n",
       "    </tr>\n",
       "    <tr>\n",
       "      <th>7</th>\n",
       "      <td>associate</td>\n",
       "      <td>white collar</td>\n",
       "      <td>&gt;50k</td>\n",
       "      <td>397</td>\n",
       "      <td>associate | white collar</td>\n",
       "    </tr>\n",
       "    <tr>\n",
       "      <th>47</th>\n",
       "      <td>tertiary</td>\n",
       "      <td>blue collar</td>\n",
       "      <td>&lt;=50k</td>\n",
       "      <td>375</td>\n",
       "      <td>tertiary | blue collar</td>\n",
       "    </tr>\n",
       "    <tr>\n",
       "      <th>25</th>\n",
       "      <td>secondary</td>\n",
       "      <td>unknown</td>\n",
       "      <td>&lt;=50k</td>\n",
       "      <td>307</td>\n",
       "      <td>secondary | unknown</td>\n",
       "    </tr>\n",
       "    <tr>\n",
       "      <th>14</th>\n",
       "      <td>primary</td>\n",
       "      <td>service</td>\n",
       "      <td>&lt;=50k</td>\n",
       "      <td>243</td>\n",
       "      <td>primary | service</td>\n",
       "    </tr>\n",
       "    <tr>\n",
       "      <th>2</th>\n",
       "      <td>associate</td>\n",
       "      <td>service</td>\n",
       "      <td>&lt;=50k</td>\n",
       "      <td>237</td>\n",
       "      <td>associate | service</td>\n",
       "    </tr>\n",
       "    <tr>\n",
       "      <th>51</th>\n",
       "      <td>tertiary</td>\n",
       "      <td>service</td>\n",
       "      <td>&lt;=50k</td>\n",
       "      <td>232</td>\n",
       "      <td>tertiary | service</td>\n",
       "    </tr>\n",
       "    <tr>\n",
       "      <th>48</th>\n",
       "      <td>tertiary</td>\n",
       "      <td>blue collar</td>\n",
       "      <td>&gt;50k</td>\n",
       "      <td>183</td>\n",
       "      <td>tertiary | blue collar</td>\n",
       "    </tr>\n",
       "    <tr>\n",
       "      <th>53</th>\n",
       "      <td>tertiary</td>\n",
       "      <td>unknown</td>\n",
       "      <td>&lt;=50k</td>\n",
       "      <td>172</td>\n",
       "      <td>tertiary | unknown</td>\n",
       "    </tr>\n",
       "    <tr>\n",
       "      <th>1</th>\n",
       "      <td>associate</td>\n",
       "      <td>blue collar</td>\n",
       "      <td>&gt;50k</td>\n",
       "      <td>166</td>\n",
       "      <td>associate | blue collar</td>\n",
       "    </tr>\n",
       "    <tr>\n",
       "      <th>21</th>\n",
       "      <td>secondary</td>\n",
       "      <td>blue collar</td>\n",
       "      <td>&gt;50k</td>\n",
       "      <td>116</td>\n",
       "      <td>secondary | blue collar</td>\n",
       "    </tr>\n",
       "    <tr>\n",
       "      <th>16</th>\n",
       "      <td>primary</td>\n",
       "      <td>unknown</td>\n",
       "      <td>&lt;=50k</td>\n",
       "      <td>111</td>\n",
       "      <td>primary | unknown</td>\n",
       "    </tr>\n",
       "    <tr>\n",
       "      <th>33</th>\n",
       "      <td>secondary-school graduate</td>\n",
       "      <td>service</td>\n",
       "      <td>&gt;50k</td>\n",
       "      <td>100</td>\n",
       "      <td>secondary-school graduate | service</td>\n",
       "    </tr>\n",
       "    <tr>\n",
       "      <th>52</th>\n",
       "      <td>tertiary</td>\n",
       "      <td>service</td>\n",
       "      <td>&gt;50k</td>\n",
       "      <td>97</td>\n",
       "      <td>tertiary | service</td>\n",
       "    </tr>\n",
       "    <tr>\n",
       "      <th>42</th>\n",
       "      <td>some college</td>\n",
       "      <td>service</td>\n",
       "      <td>&gt;50k</td>\n",
       "      <td>95</td>\n",
       "      <td>some college | service</td>\n",
       "    </tr>\n",
       "    <tr>\n",
       "      <th>18</th>\n",
       "      <td>primary</td>\n",
       "      <td>white collar</td>\n",
       "      <td>&lt;=50k</td>\n",
       "      <td>93</td>\n",
       "      <td>primary | white collar</td>\n",
       "    </tr>\n",
       "    <tr>\n",
       "      <th>4</th>\n",
       "      <td>associate</td>\n",
       "      <td>unknown</td>\n",
       "      <td>&lt;=50k</td>\n",
       "      <td>89</td>\n",
       "      <td>associate | unknown</td>\n",
       "    </tr>\n",
       "    <tr>\n",
       "      <th>54</th>\n",
       "      <td>tertiary</td>\n",
       "      <td>unknown</td>\n",
       "      <td>&gt;50k</td>\n",
       "      <td>82</td>\n",
       "      <td>tertiary | unknown</td>\n",
       "    </tr>\n",
       "    <tr>\n",
       "      <th>28</th>\n",
       "      <td>secondary</td>\n",
       "      <td>white collar</td>\n",
       "      <td>&gt;50k</td>\n",
       "      <td>49</td>\n",
       "      <td>secondary | white collar</td>\n",
       "    </tr>\n",
       "    <tr>\n",
       "      <th>35</th>\n",
       "      <td>secondary-school graduate</td>\n",
       "      <td>unknown</td>\n",
       "      <td>&gt;50k</td>\n",
       "      <td>46</td>\n",
       "      <td>secondary-school graduate | unknown</td>\n",
       "    </tr>\n",
       "    <tr>\n",
       "      <th>3</th>\n",
       "      <td>associate</td>\n",
       "      <td>service</td>\n",
       "      <td>&gt;50k</td>\n",
       "      <td>44</td>\n",
       "      <td>associate | service</td>\n",
       "    </tr>\n",
       "    <tr>\n",
       "      <th>13</th>\n",
       "      <td>primary</td>\n",
       "      <td>blue collar</td>\n",
       "      <td>&gt;50k</td>\n",
       "      <td>40</td>\n",
       "      <td>primary | blue collar</td>\n",
       "    </tr>\n",
       "    <tr>\n",
       "      <th>44</th>\n",
       "      <td>some college</td>\n",
       "      <td>unknown</td>\n",
       "      <td>&gt;50k</td>\n",
       "      <td>35</td>\n",
       "      <td>some college | unknown</td>\n",
       "    </tr>\n",
       "    <tr>\n",
       "      <th>8</th>\n",
       "      <td>preschool</td>\n",
       "      <td>blue collar</td>\n",
       "      <td>&lt;=50k</td>\n",
       "      <td>25</td>\n",
       "      <td>preschool | blue collar</td>\n",
       "    </tr>\n",
       "    <tr>\n",
       "      <th>5</th>\n",
       "      <td>associate</td>\n",
       "      <td>unknown</td>\n",
       "      <td>&gt;50k</td>\n",
       "      <td>19</td>\n",
       "      <td>associate | unknown</td>\n",
       "    </tr>\n",
       "    <tr>\n",
       "      <th>9</th>\n",
       "      <td>preschool</td>\n",
       "      <td>service</td>\n",
       "      <td>&lt;=50k</td>\n",
       "      <td>17</td>\n",
       "      <td>preschool | service</td>\n",
       "    </tr>\n",
       "    <tr>\n",
       "      <th>19</th>\n",
       "      <td>primary</td>\n",
       "      <td>white collar</td>\n",
       "      <td>&gt;50k</td>\n",
       "      <td>17</td>\n",
       "      <td>primary | white collar</td>\n",
       "    </tr>\n",
       "    <tr>\n",
       "      <th>24</th>\n",
       "      <td>secondary</td>\n",
       "      <td>service</td>\n",
       "      <td>&gt;50k</td>\n",
       "      <td>12</td>\n",
       "      <td>secondary | service</td>\n",
       "    </tr>\n",
       "    <tr>\n",
       "      <th>10</th>\n",
       "      <td>preschool</td>\n",
       "      <td>unknown</td>\n",
       "      <td>&lt;=50k</td>\n",
       "      <td>5</td>\n",
       "      <td>preschool | unknown</td>\n",
       "    </tr>\n",
       "    <tr>\n",
       "      <th>26</th>\n",
       "      <td>secondary</td>\n",
       "      <td>unknown</td>\n",
       "      <td>&gt;50k</td>\n",
       "      <td>5</td>\n",
       "      <td>secondary | unknown</td>\n",
       "    </tr>\n",
       "    <tr>\n",
       "      <th>17</th>\n",
       "      <td>primary</td>\n",
       "      <td>unknown</td>\n",
       "      <td>&gt;50k</td>\n",
       "      <td>4</td>\n",
       "      <td>primary | unknown</td>\n",
       "    </tr>\n",
       "    <tr>\n",
       "      <th>31</th>\n",
       "      <td>secondary-school graduate</td>\n",
       "      <td>military</td>\n",
       "      <td>&lt;=50k</td>\n",
       "      <td>4</td>\n",
       "      <td>secondary-school graduate | military</td>\n",
       "    </tr>\n",
       "    <tr>\n",
       "      <th>11</th>\n",
       "      <td>preschool</td>\n",
       "      <td>white collar</td>\n",
       "      <td>&lt;=50k</td>\n",
       "      <td>3</td>\n",
       "      <td>preschool | white collar</td>\n",
       "    </tr>\n",
       "    <tr>\n",
       "      <th>40</th>\n",
       "      <td>some college</td>\n",
       "      <td>military</td>\n",
       "      <td>&lt;=50k</td>\n",
       "      <td>2</td>\n",
       "      <td>some college | military</td>\n",
       "    </tr>\n",
       "    <tr>\n",
       "      <th>49</th>\n",
       "      <td>tertiary</td>\n",
       "      <td>military</td>\n",
       "      <td>&lt;=50k</td>\n",
       "      <td>1</td>\n",
       "      <td>tertiary | military</td>\n",
       "    </tr>\n",
       "    <tr>\n",
       "      <th>50</th>\n",
       "      <td>tertiary</td>\n",
       "      <td>military</td>\n",
       "      <td>&gt;50k</td>\n",
       "      <td>1</td>\n",
       "      <td>tertiary | military</td>\n",
       "    </tr>\n",
       "    <tr>\n",
       "      <th>15</th>\n",
       "      <td>primary</td>\n",
       "      <td>service</td>\n",
       "      <td>&gt;50k</td>\n",
       "      <td>1</td>\n",
       "      <td>primary | service</td>\n",
       "    </tr>\n",
       "    <tr>\n",
       "      <th>22</th>\n",
       "      <td>secondary</td>\n",
       "      <td>military</td>\n",
       "      <td>&lt;=50k</td>\n",
       "      <td>1</td>\n",
       "      <td>secondary | military</td>\n",
       "    </tr>\n",
       "  </tbody>\n",
       "</table>\n",
       "</div>"
      ],
      "text/plain": [
       "              education_level occupation_grouped income  total  \\\n",
       "29  secondary-school graduate        blue collar  <=50k   3976   \n",
       "56                   tertiary       white collar   >50k   3545   \n",
       "55                   tertiary       white collar  <=50k   3369   \n",
       "45               some college       white collar  <=50k   3003   \n",
       "36  secondary-school graduate       white collar  <=50k   2900   \n",
       "38               some college        blue collar  <=50k   1503   \n",
       "32  secondary-school graduate            service  <=50k   1444   \n",
       "20                  secondary        blue collar  <=50k   1349   \n",
       "6                   associate       white collar  <=50k   1015   \n",
       "41               some college            service  <=50k    902   \n",
       "46               some college       white collar   >50k    858   \n",
       "30  secondary-school graduate        blue collar   >50k    796   \n",
       "37  secondary-school graduate       white collar   >50k    731   \n",
       "23                  secondary            service  <=50k    663   \n",
       "12                    primary        blue collar  <=50k    634   \n",
       "27                  secondary       white collar  <=50k    552   \n",
       "34  secondary-school graduate            unknown  <=50k    487   \n",
       "0                   associate        blue collar  <=50k    482   \n",
       "43               some college            unknown  <=50k    481   \n",
       "39               some college        blue collar   >50k    397   \n",
       "7                   associate       white collar   >50k    397   \n",
       "47                   tertiary        blue collar  <=50k    375   \n",
       "25                  secondary            unknown  <=50k    307   \n",
       "14                    primary            service  <=50k    243   \n",
       "2                   associate            service  <=50k    237   \n",
       "51                   tertiary            service  <=50k    232   \n",
       "48                   tertiary        blue collar   >50k    183   \n",
       "53                   tertiary            unknown  <=50k    172   \n",
       "1                   associate        blue collar   >50k    166   \n",
       "21                  secondary        blue collar   >50k    116   \n",
       "16                    primary            unknown  <=50k    111   \n",
       "33  secondary-school graduate            service   >50k    100   \n",
       "52                   tertiary            service   >50k     97   \n",
       "42               some college            service   >50k     95   \n",
       "18                    primary       white collar  <=50k     93   \n",
       "4                   associate            unknown  <=50k     89   \n",
       "54                   tertiary            unknown   >50k     82   \n",
       "28                  secondary       white collar   >50k     49   \n",
       "35  secondary-school graduate            unknown   >50k     46   \n",
       "3                   associate            service   >50k     44   \n",
       "13                    primary        blue collar   >50k     40   \n",
       "44               some college            unknown   >50k     35   \n",
       "8                   preschool        blue collar  <=50k     25   \n",
       "5                   associate            unknown   >50k     19   \n",
       "9                   preschool            service  <=50k     17   \n",
       "19                    primary       white collar   >50k     17   \n",
       "24                  secondary            service   >50k     12   \n",
       "10                  preschool            unknown  <=50k      5   \n",
       "26                  secondary            unknown   >50k      5   \n",
       "17                    primary            unknown   >50k      4   \n",
       "31  secondary-school graduate           military  <=50k      4   \n",
       "11                  preschool       white collar  <=50k      3   \n",
       "40               some college           military  <=50k      2   \n",
       "49                   tertiary           military  <=50k      1   \n",
       "50                   tertiary           military   >50k      1   \n",
       "15                    primary            service   >50k      1   \n",
       "22                  secondary           military  <=50k      1   \n",
       "\n",
       "                                     edu_occ  \n",
       "29   secondary-school graduate | blue collar  \n",
       "56                   tertiary | white collar  \n",
       "55                   tertiary | white collar  \n",
       "45               some college | white collar  \n",
       "36  secondary-school graduate | white collar  \n",
       "38                some college | blue collar  \n",
       "32       secondary-school graduate | service  \n",
       "20                   secondary | blue collar  \n",
       "6                   associate | white collar  \n",
       "41                    some college | service  \n",
       "46               some college | white collar  \n",
       "30   secondary-school graduate | blue collar  \n",
       "37  secondary-school graduate | white collar  \n",
       "23                       secondary | service  \n",
       "12                     primary | blue collar  \n",
       "27                  secondary | white collar  \n",
       "34       secondary-school graduate | unknown  \n",
       "0                    associate | blue collar  \n",
       "43                    some college | unknown  \n",
       "39                some college | blue collar  \n",
       "7                   associate | white collar  \n",
       "47                    tertiary | blue collar  \n",
       "25                       secondary | unknown  \n",
       "14                         primary | service  \n",
       "2                        associate | service  \n",
       "51                        tertiary | service  \n",
       "48                    tertiary | blue collar  \n",
       "53                        tertiary | unknown  \n",
       "1                    associate | blue collar  \n",
       "21                   secondary | blue collar  \n",
       "16                         primary | unknown  \n",
       "33       secondary-school graduate | service  \n",
       "52                        tertiary | service  \n",
       "42                    some college | service  \n",
       "18                    primary | white collar  \n",
       "4                        associate | unknown  \n",
       "54                        tertiary | unknown  \n",
       "28                  secondary | white collar  \n",
       "35       secondary-school graduate | unknown  \n",
       "3                        associate | service  \n",
       "13                     primary | blue collar  \n",
       "44                    some college | unknown  \n",
       "8                    preschool | blue collar  \n",
       "5                        associate | unknown  \n",
       "9                        preschool | service  \n",
       "19                    primary | white collar  \n",
       "24                       secondary | service  \n",
       "10                       preschool | unknown  \n",
       "26                       secondary | unknown  \n",
       "17                         primary | unknown  \n",
       "31      secondary-school graduate | military  \n",
       "11                  preschool | white collar  \n",
       "40                   some college | military  \n",
       "49                       tertiary | military  \n",
       "50                       tertiary | military  \n",
       "15                         primary | service  \n",
       "22                      secondary | military  "
      ]
     },
     "execution_count": 29,
     "metadata": {},
     "output_type": "execute_result"
    }
   ],
   "source": [
    "adult_df_income_edu_occ['edu_occ'] = (adult_df_income_edu_occ['education_level'] + \" | \"\n",
    "                                     + adult_df_income_edu_occ['occupation_grouped'])\n",
    "adult_df_income_edu_occ"
   ]
  },
  {
   "cell_type": "code",
   "execution_count": 30,
   "id": "b71e0c4f-72bc-4ff8-bd3d-c1f5022122ba",
   "metadata": {},
   "outputs": [
    {
     "data": {
      "application/vnd.plotly.v1+json": {
       "config": {
        "plotlyServerURL": "https://plot.ly"
       },
       "data": [
        {
         "hovertemplate": "income=<=50k<br>total=%{text}<br>edu_occ=%{y}<extra></extra>",
         "legendgroup": "<=50k",
         "marker": {
          "color": "rgb(103,0,31)",
          "pattern": {
           "shape": ""
          }
         },
         "name": "<=50k",
         "orientation": "h",
         "showlegend": true,
         "text": {
          "_inputArray": {
           "0": 3976,
           "1": 3369,
           "10": 634,
           "2": 3003,
           "3": 2900,
           "4": 1503,
           "5": 1444,
           "6": 1349,
           "7": 1015,
           "8": 902,
           "9": 663,
           "bdata": "AAAAAAAQr0AAAAAAAFKqQAAAAAAAdqdAAAAAAACopkAAAAAAAHyXQAAAAAAAkJZAAAAAAAAUlUAAAAAAALiPQAAAAAAAMIxAAAAAAAC4hEAAAAAAANCDQA==",
           "dtype": "f8",
           "shape": "11"
          },
          "bdata": "AAAAAAAQr0AAAAAAAFKqQAAAAAAAdqdAAAAAAACopkAAAAAAAHyXQAAAAAAAkJZAAAAAAAAUlUAAAAAAALiPQAAAAAAAMIxAAAAAAAC4hEAAAAAAANCDQA==",
          "dtype": "f8"
         },
         "textposition": "inside",
         "type": "bar",
         "x": {
          "_inputArray": {
           "0": 3976,
           "1": 3369,
           "10": 634,
           "2": 3003,
           "3": 2900,
           "4": 1503,
           "5": 1444,
           "6": 1349,
           "7": 1015,
           "8": 902,
           "9": 663,
           "bdata": "iA8pDbsLVAvfBaQFRQX3A4YDlwJ6Ag==",
           "dtype": "i2",
           "shape": "11"
          },
          "bdata": "iA8pDbsLVAvfBaQFRQX3A4YDlwJ6Ag==",
          "dtype": "i2"
         },
         "xaxis": "x",
         "y": [
          "secondary-school graduate | blue collar",
          "tertiary | white collar",
          "some college | white collar",
          "secondary-school graduate | white collar",
          "some college | blue collar",
          "secondary-school graduate | service",
          "secondary | blue collar",
          "associate | white collar",
          "some college | service",
          "secondary | service",
          "primary | blue collar"
         ],
         "yaxis": "y"
        },
        {
         "hovertemplate": "income=>50k<br>total=%{text}<br>edu_occ=%{y}<extra></extra>",
         "legendgroup": ">50k",
         "marker": {
          "color": "rgb(178,24,43)",
          "pattern": {
           "shape": ""
          }
         },
         "name": ">50k",
         "orientation": "h",
         "showlegend": true,
         "text": {
          "_inputArray": {
           "0": 3545,
           "1": 858,
           "2": 796,
           "3": 731,
           "bdata": "AAAAAACyq0AAAAAAANCKQAAAAAAA4IhAAAAAAADYhkA=",
           "dtype": "f8",
           "shape": "4"
          },
          "bdata": "AAAAAACyq0AAAAAAANCKQAAAAAAA4IhAAAAAAADYhkA=",
          "dtype": "f8"
         },
         "textposition": "inside",
         "type": "bar",
         "x": {
          "_inputArray": {
           "0": 3545,
           "1": 858,
           "2": 796,
           "3": 731,
           "bdata": "2Q1aAxwD2wI=",
           "dtype": "i2",
           "shape": "4"
          },
          "bdata": "2Q1aAxwD2wI=",
          "dtype": "i2"
         },
         "xaxis": "x",
         "y": [
          "tertiary | white collar",
          "some college | white collar",
          "secondary-school graduate | blue collar",
          "secondary-school graduate | white collar"
         ],
         "yaxis": "y"
        }
       ],
       "layout": {
        "barmode": "relative",
        "height": 500,
        "legend": {
         "title": {
          "text": "Income Level"
         },
         "tracegroupgap": 0
        },
        "margin": {
         "b": 50,
         "l": 450,
         "r": 50,
         "t": 50
        },
        "paper_bgcolor": "rgba(0, 0, 0, 0)",
        "plot_bgcolor": "rgba(0, 0, 0, 0)",
        "template": {
         "data": {
          "pie": [
           {
            "automargin": true,
            "type": "pie"
           }
          ],
          "scatter": [
           {
            "line": {
             "width": 3
            },
            "marker": {
             "size": 9
            },
            "type": "scatter"
           }
          ],
          "scatter3d": [
           {
            "line": {
             "width": 3
            },
            "marker": {
             "size": 9
            },
            "type": "scatter3d"
           }
          ],
          "scattergeo": [
           {
            "line": {
             "width": 3
            },
            "marker": {
             "size": 9
            },
            "type": "scattergeo"
           }
          ],
          "scattergl": [
           {
            "line": {
             "width": 3
            },
            "marker": {
             "size": 9
            },
            "type": "scattergl"
           }
          ],
          "scatterpolar": [
           {
            "line": {
             "width": 3
            },
            "marker": {
             "size": 9
            },
            "type": "scatterpolar"
           }
          ],
          "scatterpolargl": [
           {
            "line": {
             "width": 3
            },
            "marker": {
             "size": 9
            },
            "type": "scatterpolargl"
           }
          ],
          "scatterternary": [
           {
            "line": {
             "width": 3
            },
            "marker": {
             "size": 9
            },
            "type": "scatterternary"
           }
          ],
          "table": [
           {
            "cells": {
             "height": 30
            },
            "header": {
             "height": 36
            },
            "type": "table"
           }
          ]
         },
         "layout": {
          "font": {
           "size": 18
          },
          "xaxis": {
           "title": {
            "standoff": 15
           }
          },
          "yaxis": {
           "title": {
            "standoff": 15
           }
          }
         }
        },
        "title": {
         "text": "Top 15 Education and Occupation Groups Combinations by Income Group"
        },
        "width": 1100,
        "xaxis": {
         "anchor": "y",
         "autorange": true,
         "domain": [
          0,
          1
         ],
         "range": [
          0,
          7277.894736842105
         ],
         "title": {
          "text": "Number of Individuals"
         },
         "type": "linear"
        },
        "yaxis": {
         "anchor": "x",
         "autorange": true,
         "domain": [
          0,
          1
         ],
         "range": [
          -0.5,
          10.5
         ],
         "title": {
          "text": "Education | Occupation Group"
         },
         "type": "category"
        }
       }
      }
     },
     "metadata": {},
     "output_type": "display_data"
    }
   ],
   "source": [
    "num = 15\n",
    "adult_df_combos = adult_df_income_edu_occ.head(num)\n",
    "fig = px.bar(\n",
    "    adult_df_combos,\n",
    "    x = 'total',\n",
    "    y = 'edu_occ',\n",
    "    color = 'income',\n",
    "    orientation = 'h',\n",
    "    title = f'Top {num} Education and Occupation Groups Combinations by Income Group',\n",
    "    # barmode = 'group', \n",
    "    height = 500,\n",
    "    width=1100,\n",
    "    color_discrete_sequence=px.colors.sequential.RdBu,\n",
    "    text = 'total'\n",
    ")\n",
    "fig.update_layout(template=\"presentation\", \n",
    "                  xaxis_title='Number of Individuals', \n",
    "                  yaxis_title='Education | Occupation Group', \n",
    "                  legend_title=dict(text='Income Level'),\n",
    "                  margin=dict(l=450, r=50, t=50, b=50),\n",
    "                  paper_bgcolor = \"rgba(0, 0, 0, 0)\", \n",
    "                  plot_bgcolor = \"rgba(0, 0, 0, 0)\")\n",
    "fig.update_traces(textposition='inside')\n",
    "fig.show()\n",
    "fig.write_image(os.path.join(results_dir, 'income_distribution_by_eduandocc_bar_plot.jpg'))\n",
    "fig.write_image(os.path.join(results_dir, 'income_distribution_by_eduandocc_bar_plot.png'))\n",
    "fig.write_html(os.path.join(results_dir, 'income_distribution_by_eduandocc_bar_plot.html'))"
   ]
  },
  {
   "cell_type": "markdown",
   "id": "42769ad8-8033-4723-87bc-1f6f42c3804a",
   "metadata": {},
   "source": [
    "From the bar chart, we can pick out the largest groups per income-level. We see that secondary-school graduates working a blue collar job occupy the largest group in the dataset (3976). This reflects a common socio-economic profile: individuals with basic schooling in manual or technical trades predominantly earning lower incomes. The largest high-income group are tertiary-educated individuals in white collar roles. This highlights the strong earning advantage conferred by higher education and skilled jobs.\n",
    "\n",
    "Some of the key patterns we can get from the dataset are:\n",
    "\n",
    "- **Education matters, but isn’t deterministic**\n",
    "\n",
    "Tertiary education combined with white-collar work offers the highest income prospects. Yet a substantial number of tertiary-educated white-collar workers earn <=50K, likely early career, part-time, or structural pay gaps.\n",
    "\n",
    "- **Blue-collar and service work predominantly pay <=50K, regardless of education.**\n",
    "\n",
    "Even some college education doesn’t guarantee high incomes in these sectors. Manual and service sector income is highly occupation-dependent (some skilled trades can break the 50K mark).\n",
    "\n",
    "- **Some non-tertiary education groups do reach >50K**\n",
    "\n",
    "Secondary-school graduates in blue-collar and white-collar work have decent representation among >50K earners. This reflects upward mobility possible through skilled trades, tenure, or niche roles.\n"
   ]
  }
 ],
 "metadata": {
  "kernelspec": {
   "display_name": "Python [conda env:base] *",
   "language": "python",
   "name": "conda-base-py"
  },
  "language_info": {
   "codemirror_mode": {
    "name": "ipython",
    "version": 3
   },
   "file_extension": ".py",
   "mimetype": "text/x-python",
   "name": "python",
   "nbconvert_exporter": "python",
   "pygments_lexer": "ipython3",
   "version": "3.12.7"
  }
 },
 "nbformat": 4,
 "nbformat_minor": 5
}
